{
  "nbformat": 4,
  "nbformat_minor": 0,
  "metadata": {
    "colab": {
      "provenance": [],
      "gpuType": "T4"
    },
    "kernelspec": {
      "name": "python3",
      "display_name": "Python 3"
    },
    "language_info": {
      "name": "python"
    },
    "accelerator": "GPU"
  },
  "cells": [
    {
      "cell_type": "code",
      "source": [
        "#@title Instalar requerimientos\n",
        "!pip install ultralytics"
      ],
      "metadata": {
        "colab": {
          "base_uri": "https://localhost:8080/"
        },
        "collapsed": true,
        "cellView": "form",
        "id": "0vKcGr_Xkrd3",
        "outputId": "c6c58533-c15d-4add-8432-bb4a5b184b0d"
      },
      "execution_count": null,
      "outputs": [
        {
          "output_type": "stream",
          "name": "stdout",
          "text": [
            "Collecting ultralytics\n",
            "  Downloading ultralytics-8.3.95-py3-none-any.whl.metadata (35 kB)\n",
            "Requirement already satisfied: numpy<=2.1.1,>=1.23.0 in /usr/local/lib/python3.11/dist-packages (from ultralytics) (2.0.2)\n",
            "Requirement already satisfied: matplotlib>=3.3.0 in /usr/local/lib/python3.11/dist-packages (from ultralytics) (3.10.0)\n",
            "Requirement already satisfied: opencv-python>=4.6.0 in /usr/local/lib/python3.11/dist-packages (from ultralytics) (4.11.0.86)\n",
            "Requirement already satisfied: pillow>=7.1.2 in /usr/local/lib/python3.11/dist-packages (from ultralytics) (11.1.0)\n",
            "Requirement already satisfied: pyyaml>=5.3.1 in /usr/local/lib/python3.11/dist-packages (from ultralytics) (6.0.2)\n",
            "Requirement already satisfied: requests>=2.23.0 in /usr/local/lib/python3.11/dist-packages (from ultralytics) (2.32.3)\n",
            "Requirement already satisfied: scipy>=1.4.1 in /usr/local/lib/python3.11/dist-packages (from ultralytics) (1.14.1)\n",
            "Requirement already satisfied: torch>=1.8.0 in /usr/local/lib/python3.11/dist-packages (from ultralytics) (2.6.0+cu124)\n",
            "Requirement already satisfied: torchvision>=0.9.0 in /usr/local/lib/python3.11/dist-packages (from ultralytics) (0.21.0+cu124)\n",
            "Requirement already satisfied: tqdm>=4.64.0 in /usr/local/lib/python3.11/dist-packages (from ultralytics) (4.67.1)\n",
            "Requirement already satisfied: psutil in /usr/local/lib/python3.11/dist-packages (from ultralytics) (5.9.5)\n",
            "Requirement already satisfied: py-cpuinfo in /usr/local/lib/python3.11/dist-packages (from ultralytics) (9.0.0)\n",
            "Requirement already satisfied: pandas>=1.1.4 in /usr/local/lib/python3.11/dist-packages (from ultralytics) (2.2.2)\n",
            "Requirement already satisfied: seaborn>=0.11.0 in /usr/local/lib/python3.11/dist-packages (from ultralytics) (0.13.2)\n",
            "Collecting ultralytics-thop>=2.0.0 (from ultralytics)\n",
            "  Downloading ultralytics_thop-2.0.14-py3-none-any.whl.metadata (9.4 kB)\n",
            "Requirement already satisfied: contourpy>=1.0.1 in /usr/local/lib/python3.11/dist-packages (from matplotlib>=3.3.0->ultralytics) (1.3.1)\n",
            "Requirement already satisfied: cycler>=0.10 in /usr/local/lib/python3.11/dist-packages (from matplotlib>=3.3.0->ultralytics) (0.12.1)\n",
            "Requirement already satisfied: fonttools>=4.22.0 in /usr/local/lib/python3.11/dist-packages (from matplotlib>=3.3.0->ultralytics) (4.56.0)\n",
            "Requirement already satisfied: kiwisolver>=1.3.1 in /usr/local/lib/python3.11/dist-packages (from matplotlib>=3.3.0->ultralytics) (1.4.8)\n",
            "Requirement already satisfied: packaging>=20.0 in /usr/local/lib/python3.11/dist-packages (from matplotlib>=3.3.0->ultralytics) (24.2)\n",
            "Requirement already satisfied: pyparsing>=2.3.1 in /usr/local/lib/python3.11/dist-packages (from matplotlib>=3.3.0->ultralytics) (3.2.1)\n",
            "Requirement already satisfied: python-dateutil>=2.7 in /usr/local/lib/python3.11/dist-packages (from matplotlib>=3.3.0->ultralytics) (2.8.2)\n",
            "Requirement already satisfied: pytz>=2020.1 in /usr/local/lib/python3.11/dist-packages (from pandas>=1.1.4->ultralytics) (2025.1)\n",
            "Requirement already satisfied: tzdata>=2022.7 in /usr/local/lib/python3.11/dist-packages (from pandas>=1.1.4->ultralytics) (2025.1)\n",
            "Requirement already satisfied: charset-normalizer<4,>=2 in /usr/local/lib/python3.11/dist-packages (from requests>=2.23.0->ultralytics) (3.4.1)\n",
            "Requirement already satisfied: idna<4,>=2.5 in /usr/local/lib/python3.11/dist-packages (from requests>=2.23.0->ultralytics) (3.10)\n",
            "Requirement already satisfied: urllib3<3,>=1.21.1 in /usr/local/lib/python3.11/dist-packages (from requests>=2.23.0->ultralytics) (2.3.0)\n",
            "Requirement already satisfied: certifi>=2017.4.17 in /usr/local/lib/python3.11/dist-packages (from requests>=2.23.0->ultralytics) (2025.1.31)\n",
            "Requirement already satisfied: filelock in /usr/local/lib/python3.11/dist-packages (from torch>=1.8.0->ultralytics) (3.18.0)\n",
            "Requirement already satisfied: typing-extensions>=4.10.0 in /usr/local/lib/python3.11/dist-packages (from torch>=1.8.0->ultralytics) (4.12.2)\n",
            "Requirement already satisfied: networkx in /usr/local/lib/python3.11/dist-packages (from torch>=1.8.0->ultralytics) (3.4.2)\n",
            "Requirement already satisfied: jinja2 in /usr/local/lib/python3.11/dist-packages (from torch>=1.8.0->ultralytics) (3.1.6)\n",
            "Requirement already satisfied: fsspec in /usr/local/lib/python3.11/dist-packages (from torch>=1.8.0->ultralytics) (2025.3.0)\n",
            "Collecting nvidia-cuda-nvrtc-cu12==12.4.127 (from torch>=1.8.0->ultralytics)\n",
            "  Downloading nvidia_cuda_nvrtc_cu12-12.4.127-py3-none-manylinux2014_x86_64.whl.metadata (1.5 kB)\n",
            "Collecting nvidia-cuda-runtime-cu12==12.4.127 (from torch>=1.8.0->ultralytics)\n",
            "  Downloading nvidia_cuda_runtime_cu12-12.4.127-py3-none-manylinux2014_x86_64.whl.metadata (1.5 kB)\n",
            "Collecting nvidia-cuda-cupti-cu12==12.4.127 (from torch>=1.8.0->ultralytics)\n",
            "  Downloading nvidia_cuda_cupti_cu12-12.4.127-py3-none-manylinux2014_x86_64.whl.metadata (1.6 kB)\n",
            "Collecting nvidia-cudnn-cu12==9.1.0.70 (from torch>=1.8.0->ultralytics)\n",
            "  Downloading nvidia_cudnn_cu12-9.1.0.70-py3-none-manylinux2014_x86_64.whl.metadata (1.6 kB)\n",
            "Collecting nvidia-cublas-cu12==12.4.5.8 (from torch>=1.8.0->ultralytics)\n",
            "  Downloading nvidia_cublas_cu12-12.4.5.8-py3-none-manylinux2014_x86_64.whl.metadata (1.5 kB)\n",
            "Collecting nvidia-cufft-cu12==11.2.1.3 (from torch>=1.8.0->ultralytics)\n",
            "  Downloading nvidia_cufft_cu12-11.2.1.3-py3-none-manylinux2014_x86_64.whl.metadata (1.5 kB)\n",
            "Collecting nvidia-curand-cu12==10.3.5.147 (from torch>=1.8.0->ultralytics)\n",
            "  Downloading nvidia_curand_cu12-10.3.5.147-py3-none-manylinux2014_x86_64.whl.metadata (1.5 kB)\n",
            "Collecting nvidia-cusolver-cu12==11.6.1.9 (from torch>=1.8.0->ultralytics)\n",
            "  Downloading nvidia_cusolver_cu12-11.6.1.9-py3-none-manylinux2014_x86_64.whl.metadata (1.6 kB)\n",
            "Collecting nvidia-cusparse-cu12==12.3.1.170 (from torch>=1.8.0->ultralytics)\n",
            "  Downloading nvidia_cusparse_cu12-12.3.1.170-py3-none-manylinux2014_x86_64.whl.metadata (1.6 kB)\n",
            "Requirement already satisfied: nvidia-cusparselt-cu12==0.6.2 in /usr/local/lib/python3.11/dist-packages (from torch>=1.8.0->ultralytics) (0.6.2)\n",
            "Requirement already satisfied: nvidia-nccl-cu12==2.21.5 in /usr/local/lib/python3.11/dist-packages (from torch>=1.8.0->ultralytics) (2.21.5)\n",
            "Requirement already satisfied: nvidia-nvtx-cu12==12.4.127 in /usr/local/lib/python3.11/dist-packages (from torch>=1.8.0->ultralytics) (12.4.127)\n",
            "Collecting nvidia-nvjitlink-cu12==12.4.127 (from torch>=1.8.0->ultralytics)\n",
            "  Downloading nvidia_nvjitlink_cu12-12.4.127-py3-none-manylinux2014_x86_64.whl.metadata (1.5 kB)\n",
            "Requirement already satisfied: triton==3.2.0 in /usr/local/lib/python3.11/dist-packages (from torch>=1.8.0->ultralytics) (3.2.0)\n",
            "Requirement already satisfied: sympy==1.13.1 in /usr/local/lib/python3.11/dist-packages (from torch>=1.8.0->ultralytics) (1.13.1)\n",
            "Requirement already satisfied: mpmath<1.4,>=1.1.0 in /usr/local/lib/python3.11/dist-packages (from sympy==1.13.1->torch>=1.8.0->ultralytics) (1.3.0)\n",
            "Requirement already satisfied: six>=1.5 in /usr/local/lib/python3.11/dist-packages (from python-dateutil>=2.7->matplotlib>=3.3.0->ultralytics) (1.17.0)\n",
            "Requirement already satisfied: MarkupSafe>=2.0 in /usr/local/lib/python3.11/dist-packages (from jinja2->torch>=1.8.0->ultralytics) (3.0.2)\n",
            "Downloading ultralytics-8.3.95-py3-none-any.whl (949 kB)\n",
            "\u001b[2K   \u001b[90m━━━━━━━━━━━━━━━━━━━━━━━━━━━━━━━━━━━━━━━━\u001b[0m \u001b[32m949.8/949.8 kB\u001b[0m \u001b[31m17.7 MB/s\u001b[0m eta \u001b[36m0:00:00\u001b[0m\n",
            "\u001b[?25hDownloading nvidia_cublas_cu12-12.4.5.8-py3-none-manylinux2014_x86_64.whl (363.4 MB)\n",
            "\u001b[2K   \u001b[90m━━━━━━━━━━━━━━━━━━━━━━━━━━━━━━━━━━━━━━━━\u001b[0m \u001b[32m363.4/363.4 MB\u001b[0m \u001b[31m4.7 MB/s\u001b[0m eta \u001b[36m0:00:00\u001b[0m\n",
            "\u001b[?25hDownloading nvidia_cuda_cupti_cu12-12.4.127-py3-none-manylinux2014_x86_64.whl (13.8 MB)\n",
            "\u001b[2K   \u001b[90m━━━━━━━━━━━━━━━━━━━━━━━━━━━━━━━━━━━━━━━━\u001b[0m \u001b[32m13.8/13.8 MB\u001b[0m \u001b[31m61.8 MB/s\u001b[0m eta \u001b[36m0:00:00\u001b[0m\n",
            "\u001b[?25hDownloading nvidia_cuda_nvrtc_cu12-12.4.127-py3-none-manylinux2014_x86_64.whl (24.6 MB)\n",
            "\u001b[2K   \u001b[90m━━━━━━━━━━━━━━━━━━━━━━━━━━━━━━━━━━━━━━━━\u001b[0m \u001b[32m24.6/24.6 MB\u001b[0m \u001b[31m58.7 MB/s\u001b[0m eta \u001b[36m0:00:00\u001b[0m\n",
            "\u001b[?25hDownloading nvidia_cuda_runtime_cu12-12.4.127-py3-none-manylinux2014_x86_64.whl (883 kB)\n",
            "\u001b[2K   \u001b[90m━━━━━━━━━━━━━━━━━━━━━━━━━━━━━━━━━━━━━━━━\u001b[0m \u001b[32m883.7/883.7 kB\u001b[0m \u001b[31m42.6 MB/s\u001b[0m eta \u001b[36m0:00:00\u001b[0m\n",
            "\u001b[?25hDownloading nvidia_cudnn_cu12-9.1.0.70-py3-none-manylinux2014_x86_64.whl (664.8 MB)\n",
            "\u001b[2K   \u001b[90m━━━━━━━━━━━━━━━━━━━━━━━━━━━━━━━━━━━━━━━━\u001b[0m \u001b[32m664.8/664.8 MB\u001b[0m \u001b[31m2.8 MB/s\u001b[0m eta \u001b[36m0:00:00\u001b[0m\n",
            "\u001b[?25hDownloading nvidia_cufft_cu12-11.2.1.3-py3-none-manylinux2014_x86_64.whl (211.5 MB)\n",
            "\u001b[2K   \u001b[90m━━━━━━━━━━━━━━━━━━━━━━━━━━━━━━━━━━━━━━━━\u001b[0m \u001b[32m211.5/211.5 MB\u001b[0m \u001b[31m6.7 MB/s\u001b[0m eta \u001b[36m0:00:00\u001b[0m\n",
            "\u001b[?25hDownloading nvidia_curand_cu12-10.3.5.147-py3-none-manylinux2014_x86_64.whl (56.3 MB)\n",
            "\u001b[2K   \u001b[90m━━━━━━━━━━━━━━━━━━━━━━━━━━━━━━━━━━━━━━━━\u001b[0m \u001b[32m56.3/56.3 MB\u001b[0m \u001b[31m10.3 MB/s\u001b[0m eta \u001b[36m0:00:00\u001b[0m\n",
            "\u001b[?25hDownloading nvidia_cusolver_cu12-11.6.1.9-py3-none-manylinux2014_x86_64.whl (127.9 MB)\n",
            "\u001b[2K   \u001b[90m━━━━━━━━━━━━━━━━━━━━━━━━━━━━━━━━━━━━━━━━\u001b[0m \u001b[32m127.9/127.9 MB\u001b[0m \u001b[31m6.6 MB/s\u001b[0m eta \u001b[36m0:00:00\u001b[0m\n",
            "\u001b[?25hDownloading nvidia_cusparse_cu12-12.3.1.170-py3-none-manylinux2014_x86_64.whl (207.5 MB)\n",
            "\u001b[2K   \u001b[90m━━━━━━━━━━━━━━━━━━━━━━━━━━━━━━━━━━━━━━━━\u001b[0m \u001b[32m207.5/207.5 MB\u001b[0m \u001b[31m5.6 MB/s\u001b[0m eta \u001b[36m0:00:00\u001b[0m\n",
            "\u001b[?25hDownloading nvidia_nvjitlink_cu12-12.4.127-py3-none-manylinux2014_x86_64.whl (21.1 MB)\n",
            "\u001b[2K   \u001b[90m━━━━━━━━━━━━━━━━━━━━━━━━━━━━━━━━━━━━━━━━\u001b[0m \u001b[32m21.1/21.1 MB\u001b[0m \u001b[31m42.2 MB/s\u001b[0m eta \u001b[36m0:00:00\u001b[0m\n",
            "\u001b[?25hDownloading ultralytics_thop-2.0.14-py3-none-any.whl (26 kB)\n",
            "Installing collected packages: nvidia-nvjitlink-cu12, nvidia-curand-cu12, nvidia-cufft-cu12, nvidia-cuda-runtime-cu12, nvidia-cuda-nvrtc-cu12, nvidia-cuda-cupti-cu12, nvidia-cublas-cu12, nvidia-cusparse-cu12, nvidia-cudnn-cu12, nvidia-cusolver-cu12, ultralytics-thop, ultralytics\n",
            "  Attempting uninstall: nvidia-nvjitlink-cu12\n",
            "    Found existing installation: nvidia-nvjitlink-cu12 12.5.82\n",
            "    Uninstalling nvidia-nvjitlink-cu12-12.5.82:\n",
            "      Successfully uninstalled nvidia-nvjitlink-cu12-12.5.82\n",
            "  Attempting uninstall: nvidia-curand-cu12\n",
            "    Found existing installation: nvidia-curand-cu12 10.3.6.82\n",
            "    Uninstalling nvidia-curand-cu12-10.3.6.82:\n",
            "      Successfully uninstalled nvidia-curand-cu12-10.3.6.82\n",
            "  Attempting uninstall: nvidia-cufft-cu12\n",
            "    Found existing installation: nvidia-cufft-cu12 11.2.3.61\n",
            "    Uninstalling nvidia-cufft-cu12-11.2.3.61:\n",
            "      Successfully uninstalled nvidia-cufft-cu12-11.2.3.61\n",
            "  Attempting uninstall: nvidia-cuda-runtime-cu12\n",
            "    Found existing installation: nvidia-cuda-runtime-cu12 12.5.82\n",
            "    Uninstalling nvidia-cuda-runtime-cu12-12.5.82:\n",
            "      Successfully uninstalled nvidia-cuda-runtime-cu12-12.5.82\n",
            "  Attempting uninstall: nvidia-cuda-nvrtc-cu12\n",
            "    Found existing installation: nvidia-cuda-nvrtc-cu12 12.5.82\n",
            "    Uninstalling nvidia-cuda-nvrtc-cu12-12.5.82:\n",
            "      Successfully uninstalled nvidia-cuda-nvrtc-cu12-12.5.82\n",
            "  Attempting uninstall: nvidia-cuda-cupti-cu12\n",
            "    Found existing installation: nvidia-cuda-cupti-cu12 12.5.82\n",
            "    Uninstalling nvidia-cuda-cupti-cu12-12.5.82:\n",
            "      Successfully uninstalled nvidia-cuda-cupti-cu12-12.5.82\n",
            "  Attempting uninstall: nvidia-cublas-cu12\n",
            "    Found existing installation: nvidia-cublas-cu12 12.5.3.2\n",
            "    Uninstalling nvidia-cublas-cu12-12.5.3.2:\n",
            "      Successfully uninstalled nvidia-cublas-cu12-12.5.3.2\n",
            "  Attempting uninstall: nvidia-cusparse-cu12\n",
            "    Found existing installation: nvidia-cusparse-cu12 12.5.1.3\n",
            "    Uninstalling nvidia-cusparse-cu12-12.5.1.3:\n",
            "      Successfully uninstalled nvidia-cusparse-cu12-12.5.1.3\n",
            "  Attempting uninstall: nvidia-cudnn-cu12\n",
            "    Found existing installation: nvidia-cudnn-cu12 9.3.0.75\n",
            "    Uninstalling nvidia-cudnn-cu12-9.3.0.75:\n",
            "      Successfully uninstalled nvidia-cudnn-cu12-9.3.0.75\n",
            "  Attempting uninstall: nvidia-cusolver-cu12\n",
            "    Found existing installation: nvidia-cusolver-cu12 11.6.3.83\n",
            "    Uninstalling nvidia-cusolver-cu12-11.6.3.83:\n",
            "      Successfully uninstalled nvidia-cusolver-cu12-11.6.3.83\n",
            "Successfully installed nvidia-cublas-cu12-12.4.5.8 nvidia-cuda-cupti-cu12-12.4.127 nvidia-cuda-nvrtc-cu12-12.4.127 nvidia-cuda-runtime-cu12-12.4.127 nvidia-cudnn-cu12-9.1.0.70 nvidia-cufft-cu12-11.2.1.3 nvidia-curand-cu12-10.3.5.147 nvidia-cusolver-cu12-11.6.1.9 nvidia-cusparse-cu12-12.3.1.170 nvidia-nvjitlink-cu12-12.4.127 ultralytics-8.3.95 ultralytics-thop-2.0.14\n"
          ]
        }
      ]
    },
    {
      "cell_type": "code",
      "source": [
        "#@title  Montar Google Drive\n",
        "from google.colab import drive\n",
        "\n",
        "drive.mount('/content/drive')"
      ],
      "metadata": {
        "colab": {
          "base_uri": "https://localhost:8080/"
        },
        "id": "lSkEwAZugGXb",
        "outputId": "7d0de586-0713-41ac-c544-4197e984e509",
        "cellView": "form"
      },
      "execution_count": null,
      "outputs": [
        {
          "output_type": "stream",
          "name": "stdout",
          "text": [
            "Mounted at /content/drive\n"
          ]
        }
      ]
    },
    {
      "cell_type": "code",
      "source": [
        "#@title  Reorganizar dataset en subdirectorios\n",
        "import os\n",
        "import shutil\n",
        "\n",
        "# Definir rutas del dataset\n",
        "base_path = \"/content/drive/MyDrive/Dataset_standar_procesado\"\n",
        "images_path = os.path.join(base_path, \"images\")\n",
        "labels_path = os.path.join(base_path, \"labels\")"
      ],
      "metadata": {
        "collapsed": true,
        "id": "gTipctndgaEp",
        "cellView": "form"
      },
      "execution_count": null,
      "outputs": []
    },
    {
      "cell_type": "code",
      "execution_count": null,
      "metadata": {
        "colab": {
          "base_uri": "https://localhost:8080/"
        },
        "id": "gVrdvxm9d32T",
        "outputId": "498b9ff5-743a-4cda-c503-21fd599253a3",
        "cellView": "form"
      },
      "outputs": [
        {
          "output_type": "stream",
          "name": "stdout",
          "text": [
            "Dataset dividido: 1087 entrenamiento, 272 validación\n"
          ]
        }
      ],
      "source": [
        "#@title  Preparar el dataset para entrenamiento en formato YOLO\n",
        "import random\n",
        "import yaml\n",
        "\n",
        "# Obtener todas las imágenes\n",
        "image_files = [f for f in os.listdir(images_path) if f.endswith(\".jpg\")]\n",
        "random.shuffle(image_files)  # Mezclar imágenes\n",
        "\n",
        "# Dividir en entrenamiento (80%) y validación (20%)\n",
        "split_index = int(0.8 * len(image_files))\n",
        "train_files = image_files[:split_index]\n",
        "val_files = image_files[split_index:]\n",
        "\n",
        "# Guardar las listas de entrenamiento y validación\n",
        "with open(\"train.txt\", \"w\") as f:\n",
        "    f.writelines([os.path.join(images_path, img) + \"\\n\" for img in train_files])\n",
        "with open(\"val.txt\", \"w\") as f:\n",
        "    f.writelines([os.path.join(images_path, img) + \"\\n\" for img in val_files])\n",
        "\n",
        "print(f\"Dataset dividido: {len(train_files)} entrenamiento, {len(val_files)} validación\")"
      ]
    },
    {
      "cell_type": "code",
      "source": [
        "#@title  Crear archivo dataset.yaml\n",
        "# Definir archivo de configuración del dataset\n",
        "yaml_dict = {\n",
        "    \"train\": \"train.txt\",\n",
        "    \"val\": \"val.txt\",\n",
        "    \"nc\": 1,  # Número de clases (solo detectamos 'drone')\n",
        "    \"names\": [\"drone\"]\n",
        "}\n",
        "\n",
        "with open(\"dataset.yaml\", \"w\") as yaml_file:\n",
        "    yaml.dump(yaml_dict, yaml_file, default_flow_style=False)\n",
        "print(\"Archivo dataset.yaml creado.\")"
      ],
      "metadata": {
        "colab": {
          "base_uri": "https://localhost:8080/"
        },
        "id": "EvRhZKcSjXaa",
        "outputId": "94ffca97-502f-46b5-d6ab-4c3857a1163c",
        "cellView": "form"
      },
      "execution_count": null,
      "outputs": [
        {
          "output_type": "stream",
          "name": "stdout",
          "text": [
            "Archivo dataset.yaml creado.\n"
          ]
        }
      ]
    },
    {
      "cell_type": "code",
      "source": [
        "#@title  Entrenar modelo YOLO personalizado\n",
        "from ultralytics import YOLO\n",
        "\n",
        "# Cargar un modelo YOLO preentrenado y ajustarlo a nuestro dataset\n",
        "model = YOLO(\"yolo11n.pt\")\n",
        "\n",
        "# Entrenar el modelo con nuestro dataset\n",
        "results = model.train(data=\"/content/dataset.yaml\", epochs=25, imgsz=512)\n",
        "print(\"Entrenamiento completado.\")"
      ],
      "metadata": {
        "colab": {
          "base_uri": "https://localhost:8080/"
        },
        "id": "IPWGwyLBjc_o",
        "outputId": "58ebf676-3989-4b73-822e-9e0ca1f52dbf",
        "collapsed": true,
        "cellView": "form"
      },
      "execution_count": null,
      "outputs": [
        {
          "output_type": "stream",
          "name": "stdout",
          "text": [
            "Ultralytics 8.3.95 🚀 Python-3.11.11 torch-2.6.0+cu124 CUDA:0 (Tesla T4, 15095MiB)\n",
            "\u001b[34m\u001b[1mengine/trainer: \u001b[0mtask=detect, mode=train, model=yolo11n.pt, data=/content/dataset.yaml, epochs=25, time=None, patience=100, batch=16, imgsz=512, save=True, save_period=-1, cache=False, device=None, workers=8, project=None, name=train3, exist_ok=False, pretrained=True, optimizer=auto, verbose=True, seed=0, deterministic=True, single_cls=False, rect=False, cos_lr=False, close_mosaic=10, resume=False, amp=True, fraction=1.0, profile=False, freeze=None, multi_scale=False, overlap_mask=True, mask_ratio=4, dropout=0.0, val=True, split=val, save_json=False, save_hybrid=False, conf=None, iou=0.7, max_det=300, half=False, dnn=False, plots=True, source=None, vid_stride=1, stream_buffer=False, visualize=False, augment=False, agnostic_nms=False, classes=None, retina_masks=False, embed=None, show=False, save_frames=False, save_txt=False, save_conf=False, save_crop=False, show_labels=True, show_conf=True, show_boxes=True, line_width=None, format=torchscript, keras=False, optimize=False, int8=False, dynamic=False, simplify=True, opset=None, workspace=None, nms=False, lr0=0.01, lrf=0.01, momentum=0.937, weight_decay=0.0005, warmup_epochs=3.0, warmup_momentum=0.8, warmup_bias_lr=0.1, box=7.5, cls=0.5, dfl=1.5, pose=12.0, kobj=1.0, nbs=64, hsv_h=0.015, hsv_s=0.7, hsv_v=0.4, degrees=0.0, translate=0.1, scale=0.5, shear=0.0, perspective=0.0, flipud=0.0, fliplr=0.5, bgr=0.0, mosaic=1.0, mixup=0.0, copy_paste=0.0, copy_paste_mode=flip, auto_augment=randaugment, erasing=0.4, crop_fraction=1.0, cfg=None, tracker=botsort.yaml, save_dir=runs/detect/train3\n",
            "Overriding model.yaml nc=80 with nc=1\n",
            "\n",
            "                   from  n    params  module                                       arguments                     \n",
            "  0                  -1  1       464  ultralytics.nn.modules.conv.Conv             [3, 16, 3, 2]                 \n",
            "  1                  -1  1      4672  ultralytics.nn.modules.conv.Conv             [16, 32, 3, 2]                \n",
            "  2                  -1  1      6640  ultralytics.nn.modules.block.C3k2            [32, 64, 1, False, 0.25]      \n",
            "  3                  -1  1     36992  ultralytics.nn.modules.conv.Conv             [64, 64, 3, 2]                \n",
            "  4                  -1  1     26080  ultralytics.nn.modules.block.C3k2            [64, 128, 1, False, 0.25]     \n",
            "  5                  -1  1    147712  ultralytics.nn.modules.conv.Conv             [128, 128, 3, 2]              \n",
            "  6                  -1  1     87040  ultralytics.nn.modules.block.C3k2            [128, 128, 1, True]           \n",
            "  7                  -1  1    295424  ultralytics.nn.modules.conv.Conv             [128, 256, 3, 2]              \n",
            "  8                  -1  1    346112  ultralytics.nn.modules.block.C3k2            [256, 256, 1, True]           \n",
            "  9                  -1  1    164608  ultralytics.nn.modules.block.SPPF            [256, 256, 5]                 \n",
            " 10                  -1  1    249728  ultralytics.nn.modules.block.C2PSA           [256, 256, 1]                 \n",
            " 11                  -1  1         0  torch.nn.modules.upsampling.Upsample         [None, 2, 'nearest']          \n",
            " 12             [-1, 6]  1         0  ultralytics.nn.modules.conv.Concat           [1]                           \n",
            " 13                  -1  1    111296  ultralytics.nn.modules.block.C3k2            [384, 128, 1, False]          \n",
            " 14                  -1  1         0  torch.nn.modules.upsampling.Upsample         [None, 2, 'nearest']          \n",
            " 15             [-1, 4]  1         0  ultralytics.nn.modules.conv.Concat           [1]                           \n",
            " 16                  -1  1     32096  ultralytics.nn.modules.block.C3k2            [256, 64, 1, False]           \n",
            " 17                  -1  1     36992  ultralytics.nn.modules.conv.Conv             [64, 64, 3, 2]                \n",
            " 18            [-1, 13]  1         0  ultralytics.nn.modules.conv.Concat           [1]                           \n",
            " 19                  -1  1     86720  ultralytics.nn.modules.block.C3k2            [192, 128, 1, False]          \n",
            " 20                  -1  1    147712  ultralytics.nn.modules.conv.Conv             [128, 128, 3, 2]              \n",
            " 21            [-1, 10]  1         0  ultralytics.nn.modules.conv.Concat           [1]                           \n",
            " 22                  -1  1    378880  ultralytics.nn.modules.block.C3k2            [384, 256, 1, True]           \n",
            " 23        [16, 19, 22]  1    430867  ultralytics.nn.modules.head.Detect           [1, [64, 128, 256]]           \n",
            "YOLO11n summary: 181 layers, 2,590,035 parameters, 2,590,019 gradients, 6.4 GFLOPs\n",
            "\n",
            "Transferred 448/499 items from pretrained weights\n",
            "\u001b[34m\u001b[1mTensorBoard: \u001b[0mStart with 'tensorboard --logdir runs/detect/train3', view at http://localhost:6006/\n",
            "Freezing layer 'model.23.dfl.conv.weight'\n",
            "\u001b[34m\u001b[1mAMP: \u001b[0mrunning Automatic Mixed Precision (AMP) checks...\n",
            "\u001b[34m\u001b[1mAMP: \u001b[0mchecks passed ✅\n"
          ]
        },
        {
          "output_type": "stream",
          "name": "stderr",
          "text": [
            "\u001b[34m\u001b[1mtrain: \u001b[0mScanning /content/drive/MyDrive/Dataset_standar_procesado/labels... 1087 images, 0 backgrounds, 0 corrupt: 100%|██████████| 1087/1087 [00:08<00:00, 132.98it/s]\n"
          ]
        },
        {
          "output_type": "stream",
          "name": "stdout",
          "text": [
            "\u001b[34m\u001b[1mtrain: \u001b[0mNew cache created: /content/drive/MyDrive/Dataset_standar_procesado/labels.cache\n",
            "\u001b[34m\u001b[1malbumentations: \u001b[0mBlur(p=0.01, blur_limit=(3, 7)), MedianBlur(p=0.01, blur_limit=(3, 7)), ToGray(p=0.01, num_output_channels=3, method='weighted_average'), CLAHE(p=0.01, clip_limit=(1.0, 4.0), tile_grid_size=(8, 8))\n"
          ]
        },
        {
          "output_type": "stream",
          "name": "stderr",
          "text": [
            "\u001b[34m\u001b[1mval: \u001b[0mScanning /content/drive/MyDrive/Dataset_standar_procesado/labels... 272 images, 0 backgrounds, 0 corrupt: 100%|██████████| 272/272 [00:02<00:00, 113.04it/s]\n"
          ]
        },
        {
          "output_type": "stream",
          "name": "stdout",
          "text": [
            "\u001b[34m\u001b[1mval: \u001b[0mNew cache created: /content/drive/MyDrive/Dataset_standar_procesado/labels.cache\n",
            "Plotting labels to runs/detect/train3/labels.jpg... \n",
            "\u001b[34m\u001b[1moptimizer:\u001b[0m 'optimizer=auto' found, ignoring 'lr0=0.01' and 'momentum=0.937' and determining best 'optimizer', 'lr0' and 'momentum' automatically... \n",
            "\u001b[34m\u001b[1moptimizer:\u001b[0m AdamW(lr=0.002, momentum=0.9) with parameter groups 81 weight(decay=0.0), 88 weight(decay=0.0005), 87 bias(decay=0.0)\n",
            "\u001b[34m\u001b[1mTensorBoard: \u001b[0mmodel graph visualization added ✅\n",
            "Image sizes 512 train, 512 val\n",
            "Using 2 dataloader workers\n",
            "Logging results to \u001b[1mruns/detect/train3\u001b[0m\n",
            "Starting training for 25 epochs...\n",
            "\n",
            "      Epoch    GPU_mem   box_loss   cls_loss   dfl_loss  Instances       Size\n"
          ]
        },
        {
          "output_type": "stream",
          "name": "stderr",
          "text": [
            "       1/25      2.98G      1.422       2.08      1.521         39        512: 100%|██████████| 68/68 [00:21<00:00,  3.21it/s]\n",
            "                 Class     Images  Instances      Box(P          R      mAP50  mAP50-95): 100%|██████████| 9/9 [00:03<00:00,  2.76it/s]"
          ]
        },
        {
          "output_type": "stream",
          "name": "stdout",
          "text": [
            "                   all        272        298      0.363      0.406      0.319      0.139\n"
          ]
        },
        {
          "output_type": "stream",
          "name": "stderr",
          "text": [
            "\n"
          ]
        },
        {
          "output_type": "stream",
          "name": "stdout",
          "text": [
            "\n",
            "      Epoch    GPU_mem   box_loss   cls_loss   dfl_loss  Instances       Size\n"
          ]
        },
        {
          "output_type": "stream",
          "name": "stderr",
          "text": [
            "       2/25      2.98G      1.473      1.639      1.527         37        512: 100%|██████████| 68/68 [00:20<00:00,  3.24it/s]\n",
            "                 Class     Images  Instances      Box(P          R      mAP50  mAP50-95): 100%|██████████| 9/9 [00:02<00:00,  3.66it/s]\n"
          ]
        },
        {
          "output_type": "stream",
          "name": "stdout",
          "text": [
            "                   all        272        298      0.486      0.542      0.502      0.229\n",
            "\n",
            "      Epoch    GPU_mem   box_loss   cls_loss   dfl_loss  Instances       Size\n"
          ]
        },
        {
          "output_type": "stream",
          "name": "stderr",
          "text": [
            "       3/25      2.98G      1.559      1.615      1.585         40        512: 100%|██████████| 68/68 [00:21<00:00,  3.20it/s]\n",
            "                 Class     Images  Instances      Box(P          R      mAP50  mAP50-95): 100%|██████████| 9/9 [00:02<00:00,  3.14it/s]\n"
          ]
        },
        {
          "output_type": "stream",
          "name": "stdout",
          "text": [
            "                   all        272        298      0.538      0.631      0.559      0.258\n",
            "\n",
            "      Epoch    GPU_mem   box_loss   cls_loss   dfl_loss  Instances       Size\n"
          ]
        },
        {
          "output_type": "stream",
          "name": "stderr",
          "text": [
            "       4/25      2.98G      1.525      1.498       1.55         49        512: 100%|██████████| 68/68 [00:19<00:00,  3.43it/s]\n",
            "                 Class     Images  Instances      Box(P          R      mAP50  mAP50-95): 100%|██████████| 9/9 [00:03<00:00,  2.33it/s]\n"
          ]
        },
        {
          "output_type": "stream",
          "name": "stdout",
          "text": [
            "                   all        272        298      0.696      0.614      0.648      0.308\n",
            "\n",
            "      Epoch    GPU_mem   box_loss   cls_loss   dfl_loss  Instances       Size\n"
          ]
        },
        {
          "output_type": "stream",
          "name": "stderr",
          "text": [
            "       5/25      2.98G      1.476      1.324      1.496         40        512: 100%|██████████| 68/68 [00:20<00:00,  3.38it/s]\n",
            "                 Class     Images  Instances      Box(P          R      mAP50  mAP50-95): 100%|██████████| 9/9 [00:02<00:00,  3.35it/s]"
          ]
        },
        {
          "output_type": "stream",
          "name": "stdout",
          "text": [
            "                   all        272        298      0.825      0.631      0.748      0.407\n"
          ]
        },
        {
          "output_type": "stream",
          "name": "stderr",
          "text": [
            "\n"
          ]
        },
        {
          "output_type": "stream",
          "name": "stdout",
          "text": [
            "\n",
            "      Epoch    GPU_mem   box_loss   cls_loss   dfl_loss  Instances       Size\n"
          ]
        },
        {
          "output_type": "stream",
          "name": "stderr",
          "text": [
            "       6/25      2.98G      1.457      1.256      1.499         37        512: 100%|██████████| 68/68 [00:21<00:00,  3.19it/s]\n",
            "                 Class     Images  Instances      Box(P          R      mAP50  mAP50-95): 100%|██████████| 9/9 [00:02<00:00,  3.38it/s]\n"
          ]
        },
        {
          "output_type": "stream",
          "name": "stdout",
          "text": [
            "                   all        272        298      0.705      0.723      0.734      0.399\n",
            "\n",
            "      Epoch    GPU_mem   box_loss   cls_loss   dfl_loss  Instances       Size\n"
          ]
        },
        {
          "output_type": "stream",
          "name": "stderr",
          "text": [
            "       7/25      2.98G      1.441      1.223      1.467         43        512: 100%|██████████| 68/68 [00:21<00:00,  3.20it/s]\n",
            "                 Class     Images  Instances      Box(P          R      mAP50  mAP50-95): 100%|██████████| 9/9 [00:02<00:00,  3.12it/s]"
          ]
        },
        {
          "output_type": "stream",
          "name": "stdout",
          "text": [
            "                   all        272        298      0.746      0.681      0.759      0.405\n"
          ]
        },
        {
          "output_type": "stream",
          "name": "stderr",
          "text": [
            "\n"
          ]
        },
        {
          "output_type": "stream",
          "name": "stdout",
          "text": [
            "\n",
            "      Epoch    GPU_mem   box_loss   cls_loss   dfl_loss  Instances       Size\n"
          ]
        },
        {
          "output_type": "stream",
          "name": "stderr",
          "text": [
            "       8/25      2.98G        1.4      1.155      1.442         40        512: 100%|██████████| 68/68 [00:19<00:00,  3.49it/s]\n",
            "                 Class     Images  Instances      Box(P          R      mAP50  mAP50-95): 100%|██████████| 9/9 [00:03<00:00,  2.98it/s]"
          ]
        },
        {
          "output_type": "stream",
          "name": "stdout",
          "text": [
            "                   all        272        298      0.851      0.738      0.829      0.474\n"
          ]
        },
        {
          "output_type": "stream",
          "name": "stderr",
          "text": [
            "\n"
          ]
        },
        {
          "output_type": "stream",
          "name": "stdout",
          "text": [
            "\n",
            "      Epoch    GPU_mem   box_loss   cls_loss   dfl_loss  Instances       Size\n"
          ]
        },
        {
          "output_type": "stream",
          "name": "stderr",
          "text": [
            "       9/25      2.98G      1.413      1.125      1.448         38        512: 100%|██████████| 68/68 [00:22<00:00,  3.09it/s]\n",
            "                 Class     Images  Instances      Box(P          R      mAP50  mAP50-95): 100%|██████████| 9/9 [00:02<00:00,  3.62it/s]"
          ]
        },
        {
          "output_type": "stream",
          "name": "stdout",
          "text": [
            "                   all        272        298      0.867      0.826      0.902      0.536\n"
          ]
        },
        {
          "output_type": "stream",
          "name": "stderr",
          "text": [
            "\n"
          ]
        },
        {
          "output_type": "stream",
          "name": "stdout",
          "text": [
            "\n",
            "      Epoch    GPU_mem   box_loss   cls_loss   dfl_loss  Instances       Size\n"
          ]
        },
        {
          "output_type": "stream",
          "name": "stderr",
          "text": [
            "      10/25      2.98G      1.341      1.063      1.401         35        512: 100%|██████████| 68/68 [00:20<00:00,  3.33it/s]\n",
            "                 Class     Images  Instances      Box(P          R      mAP50  mAP50-95): 100%|██████████| 9/9 [00:02<00:00,  3.35it/s]"
          ]
        },
        {
          "output_type": "stream",
          "name": "stdout",
          "text": [
            "                   all        272        298      0.812      0.725      0.777      0.476\n"
          ]
        },
        {
          "output_type": "stream",
          "name": "stderr",
          "text": [
            "\n"
          ]
        },
        {
          "output_type": "stream",
          "name": "stdout",
          "text": [
            "\n",
            "      Epoch    GPU_mem   box_loss   cls_loss   dfl_loss  Instances       Size\n"
          ]
        },
        {
          "output_type": "stream",
          "name": "stderr",
          "text": [
            "      11/25         3G      1.336      1.027      1.393         44        512: 100%|██████████| 68/68 [00:18<00:00,  3.61it/s]\n",
            "                 Class     Images  Instances      Box(P          R      mAP50  mAP50-95): 100%|██████████| 9/9 [00:02<00:00,  3.77it/s]"
          ]
        },
        {
          "output_type": "stream",
          "name": "stdout",
          "text": [
            "                   all        272        298      0.861      0.832      0.887      0.554\n"
          ]
        },
        {
          "output_type": "stream",
          "name": "stderr",
          "text": [
            "\n"
          ]
        },
        {
          "output_type": "stream",
          "name": "stdout",
          "text": [
            "\n",
            "      Epoch    GPU_mem   box_loss   cls_loss   dfl_loss  Instances       Size\n"
          ]
        },
        {
          "output_type": "stream",
          "name": "stderr",
          "text": [
            "      12/25         3G      1.324      1.012      1.382         40        512: 100%|██████████| 68/68 [00:20<00:00,  3.32it/s]\n",
            "                 Class     Images  Instances      Box(P          R      mAP50  mAP50-95): 100%|██████████| 9/9 [00:02<00:00,  3.78it/s]"
          ]
        },
        {
          "output_type": "stream",
          "name": "stdout",
          "text": [
            "                   all        272        298      0.891       0.85      0.915      0.589\n"
          ]
        },
        {
          "output_type": "stream",
          "name": "stderr",
          "text": [
            "\n"
          ]
        },
        {
          "output_type": "stream",
          "name": "stdout",
          "text": [
            "\n",
            "      Epoch    GPU_mem   box_loss   cls_loss   dfl_loss  Instances       Size\n"
          ]
        },
        {
          "output_type": "stream",
          "name": "stderr",
          "text": [
            "      13/25         3G      1.273     0.9808       1.36         49        512: 100%|██████████| 68/68 [00:19<00:00,  3.41it/s]\n",
            "                 Class     Images  Instances      Box(P          R      mAP50  mAP50-95): 100%|██████████| 9/9 [00:03<00:00,  2.82it/s]"
          ]
        },
        {
          "output_type": "stream",
          "name": "stdout",
          "text": [
            "                   all        272        298       0.94      0.891      0.949      0.619\n"
          ]
        },
        {
          "output_type": "stream",
          "name": "stderr",
          "text": [
            "\n"
          ]
        },
        {
          "output_type": "stream",
          "name": "stdout",
          "text": [
            "\n",
            "      Epoch    GPU_mem   box_loss   cls_loss   dfl_loss  Instances       Size\n"
          ]
        },
        {
          "output_type": "stream",
          "name": "stderr",
          "text": [
            "      14/25         3G      1.262     0.9488      1.344         48        512: 100%|██████████| 68/68 [00:19<00:00,  3.55it/s]\n",
            "                 Class     Images  Instances      Box(P          R      mAP50  mAP50-95): 100%|██████████| 9/9 [00:02<00:00,  3.55it/s]"
          ]
        },
        {
          "output_type": "stream",
          "name": "stdout",
          "text": [
            "                   all        272        298      0.901      0.913      0.936       0.59\n"
          ]
        },
        {
          "output_type": "stream",
          "name": "stderr",
          "text": [
            "\n"
          ]
        },
        {
          "output_type": "stream",
          "name": "stdout",
          "text": [
            "\n",
            "      Epoch    GPU_mem   box_loss   cls_loss   dfl_loss  Instances       Size\n"
          ]
        },
        {
          "output_type": "stream",
          "name": "stderr",
          "text": [
            "      15/25         3G      1.245      0.936      1.324         45        512: 100%|██████████| 68/68 [00:21<00:00,  3.17it/s]\n",
            "                 Class     Images  Instances      Box(P          R      mAP50  mAP50-95): 100%|██████████| 9/9 [00:02<00:00,  3.75it/s]"
          ]
        },
        {
          "output_type": "stream",
          "name": "stdout",
          "text": [
            "                   all        272        298      0.921      0.899      0.945      0.626\n"
          ]
        },
        {
          "output_type": "stream",
          "name": "stderr",
          "text": [
            "\n"
          ]
        },
        {
          "output_type": "stream",
          "name": "stdout",
          "text": [
            "Closing dataloader mosaic\n",
            "\u001b[34m\u001b[1malbumentations: \u001b[0mBlur(p=0.01, blur_limit=(3, 7)), MedianBlur(p=0.01, blur_limit=(3, 7)), ToGray(p=0.01, num_output_channels=3, method='weighted_average'), CLAHE(p=0.01, clip_limit=(1.0, 4.0), tile_grid_size=(8, 8))\n",
            "\n",
            "      Epoch    GPU_mem   box_loss   cls_loss   dfl_loss  Instances       Size\n"
          ]
        },
        {
          "output_type": "stream",
          "name": "stderr",
          "text": [
            "      16/25         3G      1.157      0.848      1.323         16        512: 100%|██████████| 68/68 [00:21<00:00,  3.22it/s]\n",
            "                 Class     Images  Instances      Box(P          R      mAP50  mAP50-95): 100%|██████████| 9/9 [00:02<00:00,  3.02it/s]"
          ]
        },
        {
          "output_type": "stream",
          "name": "stdout",
          "text": [
            "                   all        272        298      0.877      0.863      0.915      0.567\n"
          ]
        },
        {
          "output_type": "stream",
          "name": "stderr",
          "text": [
            "\n"
          ]
        },
        {
          "output_type": "stream",
          "name": "stdout",
          "text": [
            "\n",
            "      Epoch    GPU_mem   box_loss   cls_loss   dfl_loss  Instances       Size\n"
          ]
        },
        {
          "output_type": "stream",
          "name": "stderr",
          "text": [
            "      17/25         3G      1.124     0.7293      1.316         15        512: 100%|██████████| 68/68 [00:20<00:00,  3.31it/s]\n",
            "                 Class     Images  Instances      Box(P          R      mAP50  mAP50-95): 100%|██████████| 9/9 [00:03<00:00,  2.70it/s]\n"
          ]
        },
        {
          "output_type": "stream",
          "name": "stdout",
          "text": [
            "                   all        272        298      0.899      0.921      0.942      0.637\n",
            "\n",
            "      Epoch    GPU_mem   box_loss   cls_loss   dfl_loss  Instances       Size\n"
          ]
        },
        {
          "output_type": "stream",
          "name": "stderr",
          "text": [
            "      18/25         3G      1.111     0.7216      1.325         15        512: 100%|██████████| 68/68 [00:19<00:00,  3.53it/s]\n",
            "                 Class     Images  Instances      Box(P          R      mAP50  mAP50-95): 100%|██████████| 9/9 [00:02<00:00,  3.64it/s]"
          ]
        },
        {
          "output_type": "stream",
          "name": "stdout",
          "text": [
            "                   all        272        298      0.886      0.896      0.947      0.613\n"
          ]
        },
        {
          "output_type": "stream",
          "name": "stderr",
          "text": [
            "\n"
          ]
        },
        {
          "output_type": "stream",
          "name": "stdout",
          "text": [
            "\n",
            "      Epoch    GPU_mem   box_loss   cls_loss   dfl_loss  Instances       Size\n"
          ]
        },
        {
          "output_type": "stream",
          "name": "stderr",
          "text": [
            "      19/25         3G      1.057     0.6541      1.282         15        512: 100%|██████████| 68/68 [00:20<00:00,  3.38it/s]\n",
            "                 Class     Images  Instances      Box(P          R      mAP50  mAP50-95): 100%|██████████| 9/9 [00:02<00:00,  3.01it/s]"
          ]
        },
        {
          "output_type": "stream",
          "name": "stdout",
          "text": [
            "                   all        272        298      0.919      0.908       0.96      0.648\n"
          ]
        },
        {
          "output_type": "stream",
          "name": "stderr",
          "text": [
            "\n"
          ]
        },
        {
          "output_type": "stream",
          "name": "stdout",
          "text": [
            "\n",
            "      Epoch    GPU_mem   box_loss   cls_loss   dfl_loss  Instances       Size\n"
          ]
        },
        {
          "output_type": "stream",
          "name": "stderr",
          "text": [
            "      20/25         3G      1.062     0.6418       1.27         15        512: 100%|██████████| 68/68 [00:18<00:00,  3.58it/s]\n",
            "                 Class     Images  Instances      Box(P          R      mAP50  mAP50-95): 100%|██████████| 9/9 [00:02<00:00,  3.43it/s]"
          ]
        },
        {
          "output_type": "stream",
          "name": "stdout",
          "text": [
            "                   all        272        298       0.95      0.906      0.969      0.664\n"
          ]
        },
        {
          "output_type": "stream",
          "name": "stderr",
          "text": [
            "\n"
          ]
        },
        {
          "output_type": "stream",
          "name": "stdout",
          "text": [
            "\n",
            "      Epoch    GPU_mem   box_loss   cls_loss   dfl_loss  Instances       Size\n"
          ]
        },
        {
          "output_type": "stream",
          "name": "stderr",
          "text": [
            "      21/25         3G       1.03     0.6124      1.252         15        512: 100%|██████████| 68/68 [00:20<00:00,  3.31it/s]\n",
            "                 Class     Images  Instances      Box(P          R      mAP50  mAP50-95): 100%|██████████| 9/9 [00:02<00:00,  3.74it/s]"
          ]
        },
        {
          "output_type": "stream",
          "name": "stdout",
          "text": [
            "                   all        272        298      0.952      0.899      0.964      0.668\n"
          ]
        },
        {
          "output_type": "stream",
          "name": "stderr",
          "text": [
            "\n"
          ]
        },
        {
          "output_type": "stream",
          "name": "stdout",
          "text": [
            "\n",
            "      Epoch    GPU_mem   box_loss   cls_loss   dfl_loss  Instances       Size\n"
          ]
        },
        {
          "output_type": "stream",
          "name": "stderr",
          "text": [
            "      22/25         3G      1.016     0.5892      1.223         15        512: 100%|██████████| 68/68 [00:19<00:00,  3.57it/s]\n",
            "                 Class     Images  Instances      Box(P          R      mAP50  mAP50-95): 100%|██████████| 9/9 [00:03<00:00,  2.72it/s]"
          ]
        },
        {
          "output_type": "stream",
          "name": "stdout",
          "text": [
            "                   all        272        298      0.918      0.935      0.965      0.676\n"
          ]
        },
        {
          "output_type": "stream",
          "name": "stderr",
          "text": [
            "\n"
          ]
        },
        {
          "output_type": "stream",
          "name": "stdout",
          "text": [
            "\n",
            "      Epoch    GPU_mem   box_loss   cls_loss   dfl_loss  Instances       Size\n"
          ]
        },
        {
          "output_type": "stream",
          "name": "stderr",
          "text": [
            "      23/25         3G     0.9818     0.5701      1.207         15        512: 100%|██████████| 68/68 [00:18<00:00,  3.61it/s]\n",
            "                 Class     Images  Instances      Box(P          R      mAP50  mAP50-95): 100%|██████████| 9/9 [00:02<00:00,  3.76it/s]"
          ]
        },
        {
          "output_type": "stream",
          "name": "stdout",
          "text": [
            "                   all        272        298      0.955      0.917       0.97      0.691\n"
          ]
        },
        {
          "output_type": "stream",
          "name": "stderr",
          "text": [
            "\n"
          ]
        },
        {
          "output_type": "stream",
          "name": "stdout",
          "text": [
            "\n",
            "      Epoch    GPU_mem   box_loss   cls_loss   dfl_loss  Instances       Size\n"
          ]
        },
        {
          "output_type": "stream",
          "name": "stderr",
          "text": [
            "      24/25         3G      0.976      0.547      1.195         15        512: 100%|██████████| 68/68 [00:20<00:00,  3.35it/s]\n",
            "                 Class     Images  Instances      Box(P          R      mAP50  mAP50-95): 100%|██████████| 9/9 [00:02<00:00,  3.11it/s]"
          ]
        },
        {
          "output_type": "stream",
          "name": "stdout",
          "text": [
            "                   all        272        298      0.969      0.933      0.973      0.697\n"
          ]
        },
        {
          "output_type": "stream",
          "name": "stderr",
          "text": [
            "\n"
          ]
        },
        {
          "output_type": "stream",
          "name": "stdout",
          "text": [
            "\n",
            "      Epoch    GPU_mem   box_loss   cls_loss   dfl_loss  Instances       Size\n"
          ]
        },
        {
          "output_type": "stream",
          "name": "stderr",
          "text": [
            "      25/25         3G     0.9235     0.5121       1.17         15        512: 100%|██████████| 68/68 [00:18<00:00,  3.64it/s]\n",
            "                 Class     Images  Instances      Box(P          R      mAP50  mAP50-95): 100%|██████████| 9/9 [00:03<00:00,  2.90it/s]"
          ]
        },
        {
          "output_type": "stream",
          "name": "stdout",
          "text": [
            "                   all        272        298      0.962      0.924       0.97      0.692\n"
          ]
        },
        {
          "output_type": "stream",
          "name": "stderr",
          "text": [
            "\n"
          ]
        },
        {
          "output_type": "stream",
          "name": "stdout",
          "text": [
            "\n",
            "25 epochs completed in 0.167 hours.\n",
            "Optimizer stripped from runs/detect/train3/weights/last.pt, 5.4MB\n",
            "Optimizer stripped from runs/detect/train3/weights/best.pt, 5.4MB\n",
            "\n",
            "Validating runs/detect/train3/weights/best.pt...\n",
            "Ultralytics 8.3.95 🚀 Python-3.11.11 torch-2.6.0+cu124 CUDA:0 (Tesla T4, 15095MiB)\n",
            "YOLO11n summary (fused): 100 layers, 2,582,347 parameters, 0 gradients, 6.3 GFLOPs\n"
          ]
        },
        {
          "output_type": "stream",
          "name": "stderr",
          "text": [
            "                 Class     Images  Instances      Box(P          R      mAP50  mAP50-95): 100%|██████████| 9/9 [00:04<00:00,  2.07it/s]\n"
          ]
        },
        {
          "output_type": "stream",
          "name": "stdout",
          "text": [
            "                   all        272        298      0.969      0.933      0.973      0.697\n",
            "Speed: 0.3ms preprocess, 2.5ms inference, 0.0ms loss, 3.3ms postprocess per image\n",
            "Results saved to \u001b[1mruns/detect/train3\u001b[0m\n",
            "Entrenamiento completado.\n"
          ]
        }
      ]
    },
    {
      "cell_type": "code",
      "source": [
        "#@title Evaluar el modelo entrenado en un subconjunto de 50 imágenes\n",
        "import matplotlib.pyplot as plt\n",
        "import cv2\n",
        "import numpy as np\n",
        "\n",
        "# Seleccionar un subconjunto de 50 imágenes para evaluar\n",
        "subset_size = 200\n",
        "selected_indices = random.sample(range(len(image_files)), min(subset_size, len(image_files)))\n",
        "selected_images = [os.path.join(images_path, image_files[i]) for i in selected_indices]\n",
        "\n",
        "# Inferencia con el modelo entrenado\n",
        "results_list = []\n",
        "for img_path in selected_images:\n",
        "    results = model(img_path)\n",
        "    results_list.append(results[0])\n",
        "\n",
        "print(\"Inferencia completada para evaluación.\")"
      ],
      "metadata": {
        "colab": {
          "base_uri": "https://localhost:8080/"
        },
        "collapsed": true,
        "id": "RoBnslAtlY0l",
        "outputId": "f41789c2-7e4a-4c4f-8325-6328bb3c0b0a",
        "cellView": "form"
      },
      "execution_count": null,
      "outputs": [
        {
          "output_type": "stream",
          "name": "stdout",
          "text": [
            "\n",
            "image 1/1 /content/drive/MyDrive/Dataset_modulo/images/0372.jpg: 640x640 (no detections), 138.6ms\n",
            "Speed: 43.0ms preprocess, 138.6ms inference, 1.0ms postprocess per image at shape (1, 3, 640, 640)\n",
            "\n",
            "image 1/1 /content/drive/MyDrive/Dataset_modulo/images/1306.jpg: 640x640 (no detections), 34.1ms\n",
            "Speed: 5.0ms preprocess, 34.1ms inference, 1.0ms postprocess per image at shape (1, 3, 640, 640)\n",
            "\n",
            "image 1/1 /content/drive/MyDrive/Dataset_modulo/images/0185.jpg: 640x640 (no detections), 27.3ms\n",
            "Speed: 17.6ms preprocess, 27.3ms inference, 5.2ms postprocess per image at shape (1, 3, 640, 640)\n",
            "\n",
            "image 1/1 /content/drive/MyDrive/Dataset_modulo/images/0650.jpg: 640x640 (no detections), 17.0ms\n",
            "Speed: 4.1ms preprocess, 17.0ms inference, 7.3ms postprocess per image at shape (1, 3, 640, 640)\n",
            "\n",
            "image 1/1 /content/drive/MyDrive/Dataset_modulo/images/0098.jpg: 640x640 (no detections), 38.9ms\n",
            "Speed: 4.3ms preprocess, 38.9ms inference, 14.2ms postprocess per image at shape (1, 3, 640, 640)\n",
            "\n",
            "image 1/1 /content/drive/MyDrive/Dataset_modulo/images/0327.jpg: 640x640 (no detections), 90.5ms\n",
            "Speed: 11.6ms preprocess, 90.5ms inference, 22.3ms postprocess per image at shape (1, 3, 640, 640)\n",
            "\n",
            "image 1/1 /content/drive/MyDrive/Dataset_modulo/images/0082.jpg: 640x640 (no detections), 109.6ms\n",
            "Speed: 3.7ms preprocess, 109.6ms inference, 0.9ms postprocess per image at shape (1, 3, 640, 640)\n",
            "\n",
            "image 1/1 /content/drive/MyDrive/Dataset_modulo/images/0871.jpg: 640x640 (no detections), 103.8ms\n",
            "Speed: 19.6ms preprocess, 103.8ms inference, 0.9ms postprocess per image at shape (1, 3, 640, 640)\n",
            "\n",
            "image 1/1 /content/drive/MyDrive/Dataset_modulo/images/1358.jpg: 640x640 (no detections), 92.6ms\n",
            "Speed: 4.1ms preprocess, 92.6ms inference, 1.0ms postprocess per image at shape (1, 3, 640, 640)\n",
            "\n",
            "image 1/1 /content/drive/MyDrive/Dataset_modulo/images/0119.jpg: 640x640 (no detections), 109.2ms\n",
            "Speed: 13.3ms preprocess, 109.2ms inference, 4.5ms postprocess per image at shape (1, 3, 640, 640)\n",
            "\n",
            "image 1/1 /content/drive/MyDrive/Dataset_modulo/images/1004.jpg: 640x640 (no detections), 77.8ms\n",
            "Speed: 8.1ms preprocess, 77.8ms inference, 4.1ms postprocess per image at shape (1, 3, 640, 640)\n",
            "\n",
            "image 1/1 /content/drive/MyDrive/Dataset_modulo/images/0130.jpg: 640x640 (no detections), 53.0ms\n",
            "Speed: 13.6ms preprocess, 53.0ms inference, 2.2ms postprocess per image at shape (1, 3, 640, 640)\n",
            "\n",
            "image 1/1 /content/drive/MyDrive/Dataset_modulo/images/1342.jpg: 640x640 (no detections), 44.2ms\n",
            "Speed: 10.0ms preprocess, 44.2ms inference, 14.1ms postprocess per image at shape (1, 3, 640, 640)\n",
            "\n",
            "image 1/1 /content/drive/MyDrive/Dataset_modulo/images/0016.jpg: 640x640 (no detections), 40.9ms\n",
            "Speed: 9.8ms preprocess, 40.9ms inference, 3.1ms postprocess per image at shape (1, 3, 640, 640)\n",
            "\n",
            "image 1/1 /content/drive/MyDrive/Dataset_modulo/images/0624.jpg: 640x640 (no detections), 47.0ms\n",
            "Speed: 5.8ms preprocess, 47.0ms inference, 15.0ms postprocess per image at shape (1, 3, 640, 640)\n",
            "\n",
            "image 1/1 /content/drive/MyDrive/Dataset_modulo/images/0620.jpg: 640x640 (no detections), 27.5ms\n",
            "Speed: 4.3ms preprocess, 27.5ms inference, 0.9ms postprocess per image at shape (1, 3, 640, 640)\n",
            "\n",
            "image 1/1 /content/drive/MyDrive/Dataset_modulo/images/0116.jpg: 640x640 (no detections), 15.7ms\n",
            "Speed: 4.1ms preprocess, 15.7ms inference, 5.6ms postprocess per image at shape (1, 3, 640, 640)\n",
            "\n",
            "image 1/1 /content/drive/MyDrive/Dataset_modulo/images/0249.jpg: 640x640 (no detections), 19.9ms\n",
            "Speed: 4.7ms preprocess, 19.9ms inference, 1.0ms postprocess per image at shape (1, 3, 640, 640)\n",
            "\n",
            "image 1/1 /content/drive/MyDrive/Dataset_modulo/images/0118.jpg: 640x640 (no detections), 34.4ms\n",
            "Speed: 5.2ms preprocess, 34.4ms inference, 1.0ms postprocess per image at shape (1, 3, 640, 640)\n",
            "\n",
            "image 1/1 /content/drive/MyDrive/Dataset_modulo/images/1260.jpg: 640x640 (no detections), 35.9ms\n",
            "Speed: 4.1ms preprocess, 35.9ms inference, 0.8ms postprocess per image at shape (1, 3, 640, 640)\n",
            "\n",
            "image 1/1 /content/drive/MyDrive/Dataset_modulo/images/0303.jpg: 640x640 (no detections), 28.2ms\n",
            "Speed: 4.0ms preprocess, 28.2ms inference, 0.9ms postprocess per image at shape (1, 3, 640, 640)\n",
            "\n",
            "image 1/1 /content/drive/MyDrive/Dataset_modulo/images/0757.jpg: 640x640 (no detections), 16.5ms\n",
            "Speed: 4.2ms preprocess, 16.5ms inference, 1.0ms postprocess per image at shape (1, 3, 640, 640)\n",
            "\n",
            "image 1/1 /content/drive/MyDrive/Dataset_modulo/images/0614.jpg: 640x640 (no detections), 14.7ms\n",
            "Speed: 4.0ms preprocess, 14.7ms inference, 1.0ms postprocess per image at shape (1, 3, 640, 640)\n",
            "\n",
            "image 1/1 /content/drive/MyDrive/Dataset_modulo/images/0780.jpg: 640x640 (no detections), 32.7ms\n",
            "Speed: 4.2ms preprocess, 32.7ms inference, 1.1ms postprocess per image at shape (1, 3, 640, 640)\n",
            "\n",
            "image 1/1 /content/drive/MyDrive/Dataset_modulo/images/0463.jpg: 640x640 (no detections), 24.1ms\n",
            "Speed: 4.5ms preprocess, 24.1ms inference, 1.0ms postprocess per image at shape (1, 3, 640, 640)\n",
            "\n",
            "image 1/1 /content/drive/MyDrive/Dataset_modulo/images/0257.jpg: 640x640 (no detections), 24.8ms\n",
            "Speed: 6.8ms preprocess, 24.8ms inference, 1.0ms postprocess per image at shape (1, 3, 640, 640)\n",
            "\n",
            "image 1/1 /content/drive/MyDrive/Dataset_modulo/images/0545.jpg: 640x640 (no detections), 28.2ms\n",
            "Speed: 17.1ms preprocess, 28.2ms inference, 0.9ms postprocess per image at shape (1, 3, 640, 640)\n",
            "\n",
            "image 1/1 /content/drive/MyDrive/Dataset_modulo/images/1061.jpg: 640x640 (no detections), 18.3ms\n",
            "Speed: 6.3ms preprocess, 18.3ms inference, 0.9ms postprocess per image at shape (1, 3, 640, 640)\n",
            "\n",
            "image 1/1 /content/drive/MyDrive/Dataset_modulo/images/0820.jpg: 640x640 (no detections), 17.0ms\n",
            "Speed: 6.3ms preprocess, 17.0ms inference, 0.8ms postprocess per image at shape (1, 3, 640, 640)\n",
            "\n",
            "image 1/1 /content/drive/MyDrive/Dataset_modulo/images/0974.jpg: 640x640 (no detections), 21.2ms\n",
            "Speed: 6.2ms preprocess, 21.2ms inference, 7.0ms postprocess per image at shape (1, 3, 640, 640)\n",
            "\n",
            "image 1/1 /content/drive/MyDrive/Dataset_modulo/images/1043.jpg: 640x640 (no detections), 13.8ms\n",
            "Speed: 4.2ms preprocess, 13.8ms inference, 0.9ms postprocess per image at shape (1, 3, 640, 640)\n",
            "\n",
            "image 1/1 /content/drive/MyDrive/Dataset_modulo/images/0343.jpg: 640x640 (no detections), 14.0ms\n",
            "Speed: 10.2ms preprocess, 14.0ms inference, 0.8ms postprocess per image at shape (1, 3, 640, 640)\n",
            "\n",
            "image 1/1 /content/drive/MyDrive/Dataset_modulo/images/1248.jpg: 640x640 (no detections), 14.8ms\n",
            "Speed: 3.9ms preprocess, 14.8ms inference, 0.8ms postprocess per image at shape (1, 3, 640, 640)\n",
            "\n",
            "image 1/1 /content/drive/MyDrive/Dataset_modulo/images/0344.jpg: 640x640 (no detections), 15.9ms\n",
            "Speed: 3.7ms preprocess, 15.9ms inference, 0.9ms postprocess per image at shape (1, 3, 640, 640)\n",
            "\n",
            "image 1/1 /content/drive/MyDrive/Dataset_modulo/images/1356.jpg: 640x640 (no detections), 53.2ms\n",
            "Speed: 3.9ms preprocess, 53.2ms inference, 0.9ms postprocess per image at shape (1, 3, 640, 640)\n",
            "\n",
            "image 1/1 /content/drive/MyDrive/Dataset_modulo/images/0206.jpg: 640x640 (no detections), 23.5ms\n",
            "Speed: 4.0ms preprocess, 23.5ms inference, 0.9ms postprocess per image at shape (1, 3, 640, 640)\n",
            "\n",
            "image 1/1 /content/drive/MyDrive/Dataset_modulo/images/0203.jpg: 640x640 (no detections), 33.2ms\n",
            "Speed: 4.0ms preprocess, 33.2ms inference, 0.9ms postprocess per image at shape (1, 3, 640, 640)\n",
            "\n",
            "image 1/1 /content/drive/MyDrive/Dataset_modulo/images/0733.jpg: 640x640 (no detections), 14.0ms\n",
            "Speed: 3.8ms preprocess, 14.0ms inference, 0.9ms postprocess per image at shape (1, 3, 640, 640)\n",
            "\n",
            "image 1/1 /content/drive/MyDrive/Dataset_modulo/images/0556.jpg: 640x640 (no detections), 13.9ms\n",
            "Speed: 4.2ms preprocess, 13.9ms inference, 0.9ms postprocess per image at shape (1, 3, 640, 640)\n",
            "\n",
            "image 1/1 /content/drive/MyDrive/Dataset_modulo/images/0950.jpg: 640x640 (no detections), 14.2ms\n",
            "Speed: 3.8ms preprocess, 14.2ms inference, 0.8ms postprocess per image at shape (1, 3, 640, 640)\n",
            "\n",
            "image 1/1 /content/drive/MyDrive/Dataset_modulo/images/0801.jpg: 640x640 (no detections), 14.2ms\n",
            "Speed: 5.1ms preprocess, 14.2ms inference, 0.8ms postprocess per image at shape (1, 3, 640, 640)\n",
            "\n",
            "image 1/1 /content/drive/MyDrive/Dataset_modulo/images/0452.jpg: 640x640 (no detections), 16.1ms\n",
            "Speed: 5.5ms preprocess, 16.1ms inference, 0.9ms postprocess per image at shape (1, 3, 640, 640)\n",
            "\n",
            "image 1/1 /content/drive/MyDrive/Dataset_modulo/images/0011.jpg: 640x640 (no detections), 20.9ms\n",
            "Speed: 3.9ms preprocess, 20.9ms inference, 0.9ms postprocess per image at shape (1, 3, 640, 640)\n",
            "\n",
            "image 1/1 /content/drive/MyDrive/Dataset_modulo/images/0770.jpg: 640x640 (no detections), 39.3ms\n",
            "Speed: 8.1ms preprocess, 39.3ms inference, 2.1ms postprocess per image at shape (1, 3, 640, 640)\n",
            "\n",
            "image 1/1 /content/drive/MyDrive/Dataset_modulo/images/0064.jpg: 640x640 (no detections), 14.1ms\n",
            "Speed: 3.9ms preprocess, 14.1ms inference, 0.8ms postprocess per image at shape (1, 3, 640, 640)\n",
            "\n",
            "image 1/1 /content/drive/MyDrive/Dataset_modulo/images/0577.jpg: 640x640 (no detections), 20.1ms\n",
            "Speed: 4.0ms preprocess, 20.1ms inference, 0.8ms postprocess per image at shape (1, 3, 640, 640)\n",
            "\n",
            "image 1/1 /content/drive/MyDrive/Dataset_modulo/images/0017.jpg: 640x640 (no detections), 15.0ms\n",
            "Speed: 3.8ms preprocess, 15.0ms inference, 1.0ms postprocess per image at shape (1, 3, 640, 640)\n",
            "\n",
            "image 1/1 /content/drive/MyDrive/Dataset_modulo/images/0766.jpg: 640x640 (no detections), 18.4ms\n",
            "Speed: 4.7ms preprocess, 18.4ms inference, 0.8ms postprocess per image at shape (1, 3, 640, 640)\n",
            "\n",
            "image 1/1 /content/drive/MyDrive/Dataset_modulo/images/0831.jpg: 640x640 (no detections), 19.9ms\n",
            "Speed: 4.3ms preprocess, 19.9ms inference, 1.6ms postprocess per image at shape (1, 3, 640, 640)\n",
            "\n",
            "image 1/1 /content/drive/MyDrive/Dataset_modulo/images/1291.jpg: 640x640 (no detections), 17.3ms\n",
            "Speed: 5.7ms preprocess, 17.3ms inference, 1.2ms postprocess per image at shape (1, 3, 640, 640)\n",
            "\n",
            "image 1/1 /content/drive/MyDrive/Dataset_modulo/images/1193.jpg: 640x640 (no detections), 19.8ms\n",
            "Speed: 5.1ms preprocess, 19.8ms inference, 0.8ms postprocess per image at shape (1, 3, 640, 640)\n",
            "\n",
            "image 1/1 /content/drive/MyDrive/Dataset_modulo/images/0955.jpg: 640x640 (no detections), 14.5ms\n",
            "Speed: 4.1ms preprocess, 14.5ms inference, 0.8ms postprocess per image at shape (1, 3, 640, 640)\n",
            "\n",
            "image 1/1 /content/drive/MyDrive/Dataset_modulo/images/0567.jpg: 640x640 (no detections), 17.5ms\n",
            "Speed: 4.1ms preprocess, 17.5ms inference, 1.1ms postprocess per image at shape (1, 3, 640, 640)\n",
            "\n",
            "image 1/1 /content/drive/MyDrive/Dataset_modulo/images/0903.jpg: 640x640 (no detections), 17.2ms\n",
            "Speed: 6.2ms preprocess, 17.2ms inference, 1.0ms postprocess per image at shape (1, 3, 640, 640)\n",
            "\n",
            "image 1/1 /content/drive/MyDrive/Dataset_modulo/images/0128.jpg: 640x640 (no detections), 31.1ms\n",
            "Speed: 4.3ms preprocess, 31.1ms inference, 1.0ms postprocess per image at shape (1, 3, 640, 640)\n",
            "\n",
            "image 1/1 /content/drive/MyDrive/Dataset_modulo/images/0973.jpg: 640x640 (no detections), 15.2ms\n",
            "Speed: 4.1ms preprocess, 15.2ms inference, 8.9ms postprocess per image at shape (1, 3, 640, 640)\n",
            "\n",
            "image 1/1 /content/drive/MyDrive/Dataset_modulo/images/1197.jpg: 640x640 (no detections), 37.8ms\n",
            "Speed: 3.8ms preprocess, 37.8ms inference, 0.9ms postprocess per image at shape (1, 3, 640, 640)\n",
            "\n",
            "image 1/1 /content/drive/MyDrive/Dataset_modulo/images/0568.jpg: 640x640 (no detections), 49.5ms\n",
            "Speed: 4.0ms preprocess, 49.5ms inference, 9.2ms postprocess per image at shape (1, 3, 640, 640)\n",
            "\n",
            "image 1/1 /content/drive/MyDrive/Dataset_modulo/images/0101.jpg: 640x640 (no detections), 29.8ms\n",
            "Speed: 4.0ms preprocess, 29.8ms inference, 1.0ms postprocess per image at shape (1, 3, 640, 640)\n",
            "\n",
            "image 1/1 /content/drive/MyDrive/Dataset_modulo/images/1117.jpg: 640x640 (no detections), 36.2ms\n",
            "Speed: 4.0ms preprocess, 36.2ms inference, 0.9ms postprocess per image at shape (1, 3, 640, 640)\n",
            "\n",
            "image 1/1 /content/drive/MyDrive/Dataset_modulo/images/0911.jpg: 640x640 (no detections), 30.1ms\n",
            "Speed: 7.5ms preprocess, 30.1ms inference, 0.9ms postprocess per image at shape (1, 3, 640, 640)\n",
            "\n",
            "image 1/1 /content/drive/MyDrive/Dataset_modulo/images/0243.jpg: 640x640 (no detections), 16.2ms\n",
            "Speed: 11.2ms preprocess, 16.2ms inference, 0.9ms postprocess per image at shape (1, 3, 640, 640)\n",
            "\n",
            "image 1/1 /content/drive/MyDrive/Dataset_modulo/images/0824.jpg: 640x640 (no detections), 53.8ms\n",
            "Speed: 4.3ms preprocess, 53.8ms inference, 0.9ms postprocess per image at shape (1, 3, 640, 640)\n",
            "\n",
            "image 1/1 /content/drive/MyDrive/Dataset_modulo/images/0562.jpg: 640x640 (no detections), 40.9ms\n",
            "Speed: 4.8ms preprocess, 40.9ms inference, 9.6ms postprocess per image at shape (1, 3, 640, 640)\n",
            "\n",
            "image 1/1 /content/drive/MyDrive/Dataset_modulo/images/1016.jpg: 640x640 (no detections), 23.6ms\n",
            "Speed: 4.6ms preprocess, 23.6ms inference, 0.9ms postprocess per image at shape (1, 3, 640, 640)\n",
            "\n",
            "image 1/1 /content/drive/MyDrive/Dataset_modulo/images/0995.jpg: 640x640 (no detections), 48.4ms\n",
            "Speed: 7.3ms preprocess, 48.4ms inference, 0.9ms postprocess per image at shape (1, 3, 640, 640)\n",
            "\n",
            "image 1/1 /content/drive/MyDrive/Dataset_modulo/images/1289.jpg: 640x640 (no detections), 15.8ms\n",
            "Speed: 7.2ms preprocess, 15.8ms inference, 0.9ms postprocess per image at shape (1, 3, 640, 640)\n",
            "\n",
            "image 1/1 /content/drive/MyDrive/Dataset_modulo/images/0483.jpg: 640x640 (no detections), 25.3ms\n",
            "Speed: 4.1ms preprocess, 25.3ms inference, 1.3ms postprocess per image at shape (1, 3, 640, 640)\n",
            "\n",
            "image 1/1 /content/drive/MyDrive/Dataset_modulo/images/1275.jpg: 640x640 (no detections), 56.5ms\n",
            "Speed: 6.1ms preprocess, 56.5ms inference, 9.5ms postprocess per image at shape (1, 3, 640, 640)\n",
            "\n",
            "image 1/1 /content/drive/MyDrive/Dataset_modulo/images/1026.jpg: 640x640 (no detections), 61.5ms\n",
            "Speed: 17.1ms preprocess, 61.5ms inference, 0.9ms postprocess per image at shape (1, 3, 640, 640)\n",
            "\n",
            "image 1/1 /content/drive/MyDrive/Dataset_modulo/images/0450.jpg: 640x640 (no detections), 18.3ms\n",
            "Speed: 5.5ms preprocess, 18.3ms inference, 0.9ms postprocess per image at shape (1, 3, 640, 640)\n",
            "\n",
            "image 1/1 /content/drive/MyDrive/Dataset_modulo/images/0533.jpg: 640x640 (no detections), 15.5ms\n",
            "Speed: 4.1ms preprocess, 15.5ms inference, 0.9ms postprocess per image at shape (1, 3, 640, 640)\n",
            "\n",
            "image 1/1 /content/drive/MyDrive/Dataset_modulo/images/0271.jpg: 640x640 (no detections), 40.7ms\n",
            "Speed: 4.0ms preprocess, 40.7ms inference, 0.9ms postprocess per image at shape (1, 3, 640, 640)\n",
            "\n",
            "image 1/1 /content/drive/MyDrive/Dataset_modulo/images/0358.jpg: 640x640 (no detections), 25.4ms\n",
            "Speed: 4.3ms preprocess, 25.4ms inference, 1.0ms postprocess per image at shape (1, 3, 640, 640)\n",
            "\n",
            "image 1/1 /content/drive/MyDrive/Dataset_modulo/images/1316.jpg: 640x640 (no detections), 46.9ms\n",
            "Speed: 4.0ms preprocess, 46.9ms inference, 0.9ms postprocess per image at shape (1, 3, 640, 640)\n",
            "\n",
            "image 1/1 /content/drive/MyDrive/Dataset_modulo/images/0191.jpg: 640x640 (no detections), 15.5ms\n",
            "Speed: 4.2ms preprocess, 15.5ms inference, 1.0ms postprocess per image at shape (1, 3, 640, 640)\n",
            "\n",
            "image 1/1 /content/drive/MyDrive/Dataset_modulo/images/0926.jpg: 640x640 (no detections), 25.3ms\n",
            "Speed: 11.0ms preprocess, 25.3ms inference, 1.0ms postprocess per image at shape (1, 3, 640, 640)\n",
            "\n",
            "image 1/1 /content/drive/MyDrive/Dataset_modulo/images/1232.jpg: 640x640 (no detections), 19.8ms\n",
            "Speed: 4.2ms preprocess, 19.8ms inference, 0.9ms postprocess per image at shape (1, 3, 640, 640)\n",
            "\n",
            "image 1/1 /content/drive/MyDrive/Dataset_modulo/images/1286.jpg: 640x640 (no detections), 24.1ms\n",
            "Speed: 5.8ms preprocess, 24.1ms inference, 0.9ms postprocess per image at shape (1, 3, 640, 640)\n",
            "\n",
            "image 1/1 /content/drive/MyDrive/Dataset_modulo/images/1130.jpg: 640x640 (no detections), 31.0ms\n",
            "Speed: 4.5ms preprocess, 31.0ms inference, 0.8ms postprocess per image at shape (1, 3, 640, 640)\n",
            "\n",
            "image 1/1 /content/drive/MyDrive/Dataset_modulo/images/0552.jpg: 640x640 (no detections), 15.4ms\n",
            "Speed: 4.0ms preprocess, 15.4ms inference, 0.9ms postprocess per image at shape (1, 3, 640, 640)\n",
            "\n",
            "image 1/1 /content/drive/MyDrive/Dataset_modulo/images/0036.jpg: 640x640 (no detections), 14.4ms\n",
            "Speed: 4.1ms preprocess, 14.4ms inference, 0.8ms postprocess per image at shape (1, 3, 640, 640)\n",
            "\n",
            "image 1/1 /content/drive/MyDrive/Dataset_modulo/images/0502.jpg: 640x640 (no detections), 15.1ms\n",
            "Speed: 3.9ms preprocess, 15.1ms inference, 1.0ms postprocess per image at shape (1, 3, 640, 640)\n",
            "\n",
            "image 1/1 /content/drive/MyDrive/Dataset_modulo/images/0086.jpg: 640x640 (no detections), 23.4ms\n",
            "Speed: 3.9ms preprocess, 23.4ms inference, 1.0ms postprocess per image at shape (1, 3, 640, 640)\n",
            "\n",
            "image 1/1 /content/drive/MyDrive/Dataset_modulo/images/1207.jpg: 640x640 (no detections), 79.1ms\n",
            "Speed: 4.3ms preprocess, 79.1ms inference, 1.0ms postprocess per image at shape (1, 3, 640, 640)\n",
            "\n",
            "image 1/1 /content/drive/MyDrive/Dataset_modulo/images/0767.jpg: 640x640 (no detections), 42.5ms\n",
            "Speed: 11.3ms preprocess, 42.5ms inference, 1.3ms postprocess per image at shape (1, 3, 640, 640)\n",
            "\n",
            "image 1/1 /content/drive/MyDrive/Dataset_modulo/images/0264.jpg: 640x640 (no detections), 28.9ms\n",
            "Speed: 7.1ms preprocess, 28.9ms inference, 1.8ms postprocess per image at shape (1, 3, 640, 640)\n",
            "\n",
            "image 1/1 /content/drive/MyDrive/Dataset_modulo/images/1250.jpg: 640x640 (no detections), 27.3ms\n",
            "Speed: 5.9ms preprocess, 27.3ms inference, 1.0ms postprocess per image at shape (1, 3, 640, 640)\n",
            "\n",
            "image 1/1 /content/drive/MyDrive/Dataset_modulo/images/0401.jpg: 640x640 (no detections), 42.0ms\n",
            "Speed: 4.9ms preprocess, 42.0ms inference, 1.0ms postprocess per image at shape (1, 3, 640, 640)\n",
            "\n",
            "image 1/1 /content/drive/MyDrive/Dataset_modulo/images/0540.jpg: 640x640 (no detections), 22.6ms\n",
            "Speed: 4.5ms preprocess, 22.6ms inference, 1.1ms postprocess per image at shape (1, 3, 640, 640)\n",
            "\n",
            "image 1/1 /content/drive/MyDrive/Dataset_modulo/images/0201.jpg: 640x640 (no detections), 30.9ms\n",
            "Speed: 5.0ms preprocess, 30.9ms inference, 1.0ms postprocess per image at shape (1, 3, 640, 640)\n",
            "\n",
            "image 1/1 /content/drive/MyDrive/Dataset_modulo/images/0965.jpg: 640x640 (no detections), 16.8ms\n",
            "Speed: 5.4ms preprocess, 16.8ms inference, 1.2ms postprocess per image at shape (1, 3, 640, 640)\n",
            "\n",
            "image 1/1 /content/drive/MyDrive/Dataset_modulo/images/0700.jpg: 640x640 (no detections), 16.8ms\n",
            "Speed: 4.8ms preprocess, 16.8ms inference, 1.2ms postprocess per image at shape (1, 3, 640, 640)\n",
            "\n",
            "image 1/1 /content/drive/MyDrive/Dataset_modulo/images/0762.jpg: 640x640 (no detections), 16.9ms\n",
            "Speed: 4.6ms preprocess, 16.9ms inference, 1.0ms postprocess per image at shape (1, 3, 640, 640)\n",
            "\n",
            "image 1/1 /content/drive/MyDrive/Dataset_modulo/images/0004.jpg: 640x640 (no detections), 15.7ms\n",
            "Speed: 4.5ms preprocess, 15.7ms inference, 1.0ms postprocess per image at shape (1, 3, 640, 640)\n",
            "\n",
            "image 1/1 /content/drive/MyDrive/Dataset_modulo/images/0270.jpg: 640x640 (no detections), 14.0ms\n",
            "Speed: 3.8ms preprocess, 14.0ms inference, 1.0ms postprocess per image at shape (1, 3, 640, 640)\n",
            "\n",
            "image 1/1 /content/drive/MyDrive/Dataset_modulo/images/0588.jpg: 640x640 (no detections), 17.3ms\n",
            "Speed: 4.4ms preprocess, 17.3ms inference, 1.0ms postprocess per image at shape (1, 3, 640, 640)\n",
            "\n",
            "image 1/1 /content/drive/MyDrive/Dataset_modulo/images/0879.jpg: 640x640 (no detections), 16.2ms\n",
            "Speed: 4.2ms preprocess, 16.2ms inference, 0.9ms postprocess per image at shape (1, 3, 640, 640)\n",
            "\n",
            "image 1/1 /content/drive/MyDrive/Dataset_modulo/images/0844.jpg: 640x640 (no detections), 15.2ms\n",
            "Speed: 4.1ms preprocess, 15.2ms inference, 0.9ms postprocess per image at shape (1, 3, 640, 640)\n",
            "\n",
            "image 1/1 /content/drive/MyDrive/Dataset_modulo/images/0305.jpg: 640x640 (no detections), 16.5ms\n",
            "Speed: 4.4ms preprocess, 16.5ms inference, 0.9ms postprocess per image at shape (1, 3, 640, 640)\n",
            "\n",
            "image 1/1 /content/drive/MyDrive/Dataset_modulo/images/0931.jpg: 640x640 (no detections), 71.5ms\n",
            "Speed: 4.8ms preprocess, 71.5ms inference, 6.4ms postprocess per image at shape (1, 3, 640, 640)\n",
            "\n",
            "image 1/1 /content/drive/MyDrive/Dataset_modulo/images/0091.jpg: 640x640 (no detections), 51.0ms\n",
            "Speed: 16.6ms preprocess, 51.0ms inference, 1.1ms postprocess per image at shape (1, 3, 640, 640)\n",
            "\n",
            "image 1/1 /content/drive/MyDrive/Dataset_modulo/images/0610.jpg: 640x640 (no detections), 30.3ms\n",
            "Speed: 4.7ms preprocess, 30.3ms inference, 1.0ms postprocess per image at shape (1, 3, 640, 640)\n",
            "\n",
            "image 1/1 /content/drive/MyDrive/Dataset_modulo/images/0295.jpg: 640x640 (no detections), 15.9ms\n",
            "Speed: 7.5ms preprocess, 15.9ms inference, 2.0ms postprocess per image at shape (1, 3, 640, 640)\n",
            "\n",
            "image 1/1 /content/drive/MyDrive/Dataset_modulo/images/0199.jpg: 640x640 (no detections), 33.5ms\n",
            "Speed: 5.6ms preprocess, 33.5ms inference, 0.9ms postprocess per image at shape (1, 3, 640, 640)\n",
            "\n",
            "image 1/1 /content/drive/MyDrive/Dataset_modulo/images/1051.jpg: 640x640 (no detections), 28.1ms\n",
            "Speed: 9.2ms preprocess, 28.1ms inference, 1.0ms postprocess per image at shape (1, 3, 640, 640)\n",
            "\n",
            "image 1/1 /content/drive/MyDrive/Dataset_modulo/images/1118.jpg: 640x640 (no detections), 27.8ms\n",
            "Speed: 4.9ms preprocess, 27.8ms inference, 1.8ms postprocess per image at shape (1, 3, 640, 640)\n",
            "\n",
            "image 1/1 /content/drive/MyDrive/Dataset_modulo/images/0787.jpg: 640x640 (no detections), 20.8ms\n",
            "Speed: 6.5ms preprocess, 20.8ms inference, 0.9ms postprocess per image at shape (1, 3, 640, 640)\n",
            "\n",
            "image 1/1 /content/drive/MyDrive/Dataset_modulo/images/0761.jpg: 640x640 (no detections), 15.8ms\n",
            "Speed: 4.1ms preprocess, 15.8ms inference, 0.9ms postprocess per image at shape (1, 3, 640, 640)\n",
            "\n",
            "image 1/1 /content/drive/MyDrive/Dataset_modulo/images/0078.jpg: 640x640 (no detections), 21.2ms\n",
            "Speed: 4.5ms preprocess, 21.2ms inference, 0.9ms postprocess per image at shape (1, 3, 640, 640)\n",
            "\n",
            "image 1/1 /content/drive/MyDrive/Dataset_modulo/images/1063.jpg: 640x640 (no detections), 16.9ms\n",
            "Speed: 4.2ms preprocess, 16.9ms inference, 1.0ms postprocess per image at shape (1, 3, 640, 640)\n",
            "\n",
            "image 1/1 /content/drive/MyDrive/Dataset_modulo/images/0772.jpg: 640x640 (no detections), 18.7ms\n",
            "Speed: 14.1ms preprocess, 18.7ms inference, 1.1ms postprocess per image at shape (1, 3, 640, 640)\n",
            "\n",
            "image 1/1 /content/drive/MyDrive/Dataset_modulo/images/0038.jpg: 640x640 (no detections), 33.2ms\n",
            "Speed: 4.8ms preprocess, 33.2ms inference, 1.1ms postprocess per image at shape (1, 3, 640, 640)\n",
            "\n",
            "image 1/1 /content/drive/MyDrive/Dataset_modulo/images/0245.jpg: 640x640 (no detections), 26.2ms\n",
            "Speed: 3.9ms preprocess, 26.2ms inference, 1.0ms postprocess per image at shape (1, 3, 640, 640)\n",
            "\n",
            "image 1/1 /content/drive/MyDrive/Dataset_modulo/images/0456.jpg: 640x640 (no detections), 16.0ms\n",
            "Speed: 8.0ms preprocess, 16.0ms inference, 1.0ms postprocess per image at shape (1, 3, 640, 640)\n",
            "\n",
            "image 1/1 /content/drive/MyDrive/Dataset_modulo/images/1301.jpg: 640x640 (no detections), 16.3ms\n",
            "Speed: 5.3ms preprocess, 16.3ms inference, 0.9ms postprocess per image at shape (1, 3, 640, 640)\n",
            "\n",
            "image 1/1 /content/drive/MyDrive/Dataset_modulo/images/0043.jpg: 640x640 (no detections), 17.8ms\n",
            "Speed: 3.8ms preprocess, 17.8ms inference, 0.9ms postprocess per image at shape (1, 3, 640, 640)\n",
            "\n",
            "image 1/1 /content/drive/MyDrive/Dataset_modulo/images/0085.jpg: 640x640 (no detections), 22.8ms\n",
            "Speed: 8.0ms preprocess, 22.8ms inference, 0.8ms postprocess per image at shape (1, 3, 640, 640)\n",
            "\n",
            "image 1/1 /content/drive/MyDrive/Dataset_modulo/images/0151.jpg: 640x640 (no detections), 15.7ms\n",
            "Speed: 4.3ms preprocess, 15.7ms inference, 0.9ms postprocess per image at shape (1, 3, 640, 640)\n",
            "\n",
            "image 1/1 /content/drive/MyDrive/Dataset_modulo/images/0921.jpg: 640x640 (no detections), 18.7ms\n",
            "Speed: 4.2ms preprocess, 18.7ms inference, 0.9ms postprocess per image at shape (1, 3, 640, 640)\n",
            "\n",
            "image 1/1 /content/drive/MyDrive/Dataset_modulo/images/0852.jpg: 640x640 (no detections), 25.1ms\n",
            "Speed: 4.3ms preprocess, 25.1ms inference, 0.9ms postprocess per image at shape (1, 3, 640, 640)\n",
            "\n",
            "image 1/1 /content/drive/MyDrive/Dataset_modulo/images/1210.jpg: 640x640 (no detections), 17.9ms\n",
            "Speed: 7.4ms preprocess, 17.9ms inference, 1.0ms postprocess per image at shape (1, 3, 640, 640)\n",
            "\n",
            "image 1/1 /content/drive/MyDrive/Dataset_modulo/images/1229.jpg: 640x640 (no detections), 16.5ms\n",
            "Speed: 4.7ms preprocess, 16.5ms inference, 0.9ms postprocess per image at shape (1, 3, 640, 640)\n",
            "\n",
            "image 1/1 /content/drive/MyDrive/Dataset_modulo/images/0236.jpg: 640x640 (no detections), 20.2ms\n",
            "Speed: 4.2ms preprocess, 20.2ms inference, 1.0ms postprocess per image at shape (1, 3, 640, 640)\n",
            "\n",
            "image 1/1 /content/drive/MyDrive/Dataset_modulo/images/0258.jpg: 640x640 (no detections), 48.6ms\n",
            "Speed: 4.3ms preprocess, 48.6ms inference, 1.1ms postprocess per image at shape (1, 3, 640, 640)\n",
            "\n",
            "image 1/1 /content/drive/MyDrive/Dataset_modulo/images/0597.jpg: 640x640 (no detections), 39.9ms\n",
            "Speed: 4.5ms preprocess, 39.9ms inference, 0.9ms postprocess per image at shape (1, 3, 640, 640)\n",
            "\n",
            "image 1/1 /content/drive/MyDrive/Dataset_modulo/images/0470.jpg: 640x640 (no detections), 46.1ms\n",
            "Speed: 10.2ms preprocess, 46.1ms inference, 1.8ms postprocess per image at shape (1, 3, 640, 640)\n",
            "\n",
            "image 1/1 /content/drive/MyDrive/Dataset_modulo/images/0798.jpg: 640x640 (no detections), 19.9ms\n",
            "Speed: 5.3ms preprocess, 19.9ms inference, 1.1ms postprocess per image at shape (1, 3, 640, 640)\n",
            "\n",
            "image 1/1 /content/drive/MyDrive/Dataset_modulo/images/0348.jpg: 640x640 (no detections), 35.3ms\n",
            "Speed: 6.5ms preprocess, 35.3ms inference, 8.1ms postprocess per image at shape (1, 3, 640, 640)\n",
            "\n",
            "image 1/1 /content/drive/MyDrive/Dataset_modulo/images/0645.jpg: 640x640 (no detections), 22.0ms\n",
            "Speed: 9.5ms preprocess, 22.0ms inference, 0.9ms postprocess per image at shape (1, 3, 640, 640)\n",
            "\n",
            "image 1/1 /content/drive/MyDrive/Dataset_modulo/images/0822.jpg: 640x640 (no detections), 14.8ms\n",
            "Speed: 4.2ms preprocess, 14.8ms inference, 1.6ms postprocess per image at shape (1, 3, 640, 640)\n",
            "\n",
            "image 1/1 /content/drive/MyDrive/Dataset_modulo/images/0719.jpg: 640x640 (no detections), 57.1ms\n",
            "Speed: 10.3ms preprocess, 57.1ms inference, 1.0ms postprocess per image at shape (1, 3, 640, 640)\n",
            "\n",
            "image 1/1 /content/drive/MyDrive/Dataset_modulo/images/0174.jpg: 640x640 (no detections), 29.3ms\n",
            "Speed: 4.1ms preprocess, 29.3ms inference, 0.9ms postprocess per image at shape (1, 3, 640, 640)\n",
            "\n",
            "image 1/1 /content/drive/MyDrive/Dataset_modulo/images/0149.jpg: 640x640 (no detections), 26.6ms\n",
            "Speed: 9.7ms preprocess, 26.6ms inference, 1.0ms postprocess per image at shape (1, 3, 640, 640)\n",
            "\n",
            "image 1/1 /content/drive/MyDrive/Dataset_modulo/images/0025.jpg: 640x640 (no detections), 81.7ms\n",
            "Speed: 4.6ms preprocess, 81.7ms inference, 1.0ms postprocess per image at shape (1, 3, 640, 640)\n",
            "\n",
            "image 1/1 /content/drive/MyDrive/Dataset_modulo/images/1320.jpg: 640x640 (no detections), 45.2ms\n",
            "Speed: 9.9ms preprocess, 45.2ms inference, 0.9ms postprocess per image at shape (1, 3, 640, 640)\n",
            "\n",
            "image 1/1 /content/drive/MyDrive/Dataset_modulo/images/0887.jpg: 640x640 (no detections), 19.2ms\n",
            "Speed: 11.1ms preprocess, 19.2ms inference, 1.0ms postprocess per image at shape (1, 3, 640, 640)\n",
            "\n",
            "image 1/1 /content/drive/MyDrive/Dataset_modulo/images/0080.jpg: 640x640 (no detections), 22.4ms\n",
            "Speed: 4.1ms preprocess, 22.4ms inference, 1.2ms postprocess per image at shape (1, 3, 640, 640)\n",
            "\n",
            "image 1/1 /content/drive/MyDrive/Dataset_modulo/images/0536.jpg: 640x640 (no detections), 15.1ms\n",
            "Speed: 4.1ms preprocess, 15.1ms inference, 0.9ms postprocess per image at shape (1, 3, 640, 640)\n",
            "\n",
            "image 1/1 /content/drive/MyDrive/Dataset_modulo/images/0527.jpg: 640x640 (no detections), 23.0ms\n",
            "Speed: 8.5ms preprocess, 23.0ms inference, 1.0ms postprocess per image at shape (1, 3, 640, 640)\n",
            "\n",
            "image 1/1 /content/drive/MyDrive/Dataset_modulo/images/0411.jpg: 640x640 (no detections), 19.5ms\n",
            "Speed: 4.0ms preprocess, 19.5ms inference, 0.9ms postprocess per image at shape (1, 3, 640, 640)\n",
            "\n",
            "image 1/1 /content/drive/MyDrive/Dataset_modulo/images/1178.jpg: 640x640 (no detections), 15.5ms\n",
            "Speed: 4.5ms preprocess, 15.5ms inference, 1.2ms postprocess per image at shape (1, 3, 640, 640)\n",
            "\n",
            "image 1/1 /content/drive/MyDrive/Dataset_modulo/images/0655.jpg: 640x640 (no detections), 18.1ms\n",
            "Speed: 4.3ms preprocess, 18.1ms inference, 0.9ms postprocess per image at shape (1, 3, 640, 640)\n",
            "\n",
            "image 1/1 /content/drive/MyDrive/Dataset_modulo/images/0251.jpg: 640x640 (no detections), 17.2ms\n",
            "Speed: 3.9ms preprocess, 17.2ms inference, 0.8ms postprocess per image at shape (1, 3, 640, 640)\n",
            "\n",
            "image 1/1 /content/drive/MyDrive/Dataset_modulo/images/1092.jpg: 640x640 (no detections), 20.9ms\n",
            "Speed: 8.4ms preprocess, 20.9ms inference, 1.0ms postprocess per image at shape (1, 3, 640, 640)\n",
            "\n",
            "image 1/1 /content/drive/MyDrive/Dataset_modulo/images/0077.jpg: 640x640 (no detections), 29.9ms\n",
            "Speed: 5.1ms preprocess, 29.9ms inference, 0.9ms postprocess per image at shape (1, 3, 640, 640)\n",
            "\n",
            "image 1/1 /content/drive/MyDrive/Dataset_modulo/images/0763.jpg: 640x640 (no detections), 19.3ms\n",
            "Speed: 6.8ms preprocess, 19.3ms inference, 1.3ms postprocess per image at shape (1, 3, 640, 640)\n",
            "\n",
            "image 1/1 /content/drive/MyDrive/Dataset_modulo/images/0740.jpg: 640x640 (no detections), 56.2ms\n",
            "Speed: 4.4ms preprocess, 56.2ms inference, 1.0ms postprocess per image at shape (1, 3, 640, 640)\n",
            "\n",
            "image 1/1 /content/drive/MyDrive/Dataset_modulo/images/0967.jpg: 640x640 (no detections), 45.7ms\n",
            "Speed: 13.6ms preprocess, 45.7ms inference, 0.9ms postprocess per image at shape (1, 3, 640, 640)\n",
            "\n",
            "image 1/1 /content/drive/MyDrive/Dataset_modulo/images/0900.jpg: 640x640 (no detections), 15.5ms\n",
            "Speed: 4.1ms preprocess, 15.5ms inference, 1.0ms postprocess per image at shape (1, 3, 640, 640)\n",
            "\n",
            "image 1/1 /content/drive/MyDrive/Dataset_modulo/images/0499.jpg: 640x640 (no detections), 15.6ms\n",
            "Speed: 4.0ms preprocess, 15.6ms inference, 0.9ms postprocess per image at shape (1, 3, 640, 640)\n",
            "\n",
            "image 1/1 /content/drive/MyDrive/Dataset_modulo/images/1196.jpg: 640x640 (no detections), 17.0ms\n",
            "Speed: 7.8ms preprocess, 17.0ms inference, 1.0ms postprocess per image at shape (1, 3, 640, 640)\n",
            "\n",
            "image 1/1 /content/drive/MyDrive/Dataset_modulo/images/0505.jpg: 640x640 (no detections), 16.3ms\n",
            "Speed: 4.0ms preprocess, 16.3ms inference, 1.0ms postprocess per image at shape (1, 3, 640, 640)\n",
            "\n",
            "image 1/1 /content/drive/MyDrive/Dataset_modulo/images/0508.jpg: 640x640 (no detections), 18.1ms\n",
            "Speed: 6.6ms preprocess, 18.1ms inference, 0.9ms postprocess per image at shape (1, 3, 640, 640)\n",
            "\n",
            "image 1/1 /content/drive/MyDrive/Dataset_modulo/images/0300.jpg: 640x640 (no detections), 70.9ms\n",
            "Speed: 4.2ms preprocess, 70.9ms inference, 1.1ms postprocess per image at shape (1, 3, 640, 640)\n",
            "\n",
            "image 1/1 /content/drive/MyDrive/Dataset_modulo/images/1311.jpg: 640x640 (no detections), 65.1ms\n",
            "Speed: 4.6ms preprocess, 65.1ms inference, 1.0ms postprocess per image at shape (1, 3, 640, 640)\n",
            "\n",
            "image 1/1 /content/drive/MyDrive/Dataset_modulo/images/0405.jpg: 640x640 (no detections), 19.8ms\n",
            "Speed: 5.6ms preprocess, 19.8ms inference, 0.9ms postprocess per image at shape (1, 3, 640, 640)\n",
            "\n",
            "image 1/1 /content/drive/MyDrive/Dataset_modulo/images/0318.jpg: 640x640 (no detections), 40.8ms\n",
            "Speed: 14.8ms preprocess, 40.8ms inference, 0.9ms postprocess per image at shape (1, 3, 640, 640)\n",
            "\n",
            "image 1/1 /content/drive/MyDrive/Dataset_modulo/images/0285.jpg: 640x640 (no detections), 32.1ms\n",
            "Speed: 6.9ms preprocess, 32.1ms inference, 1.1ms postprocess per image at shape (1, 3, 640, 640)\n",
            "\n",
            "image 1/1 /content/drive/MyDrive/Dataset_modulo/images/0636.jpg: 640x640 (no detections), 16.6ms\n",
            "Speed: 4.0ms preprocess, 16.6ms inference, 0.8ms postprocess per image at shape (1, 3, 640, 640)\n",
            "\n",
            "image 1/1 /content/drive/MyDrive/Dataset_modulo/images/0984.jpg: 640x640 (no detections), 11.3ms\n",
            "Speed: 3.0ms preprocess, 11.3ms inference, 0.6ms postprocess per image at shape (1, 3, 640, 640)\n",
            "\n",
            "image 1/1 /content/drive/MyDrive/Dataset_modulo/images/1070.jpg: 640x640 (no detections), 9.1ms\n",
            "Speed: 2.8ms preprocess, 9.1ms inference, 0.6ms postprocess per image at shape (1, 3, 640, 640)\n",
            "\n",
            "image 1/1 /content/drive/MyDrive/Dataset_modulo/images/0664.jpg: 640x640 (no detections), 9.7ms\n",
            "Speed: 3.4ms preprocess, 9.7ms inference, 0.5ms postprocess per image at shape (1, 3, 640, 640)\n",
            "\n",
            "image 1/1 /content/drive/MyDrive/Dataset_modulo/images/0168.jpg: 640x640 (no detections), 10.0ms\n",
            "Speed: 4.9ms preprocess, 10.0ms inference, 0.6ms postprocess per image at shape (1, 3, 640, 640)\n",
            "\n",
            "image 1/1 /content/drive/MyDrive/Dataset_modulo/images/0214.jpg: 640x640 (no detections), 9.0ms\n",
            "Speed: 2.5ms preprocess, 9.0ms inference, 0.6ms postprocess per image at shape (1, 3, 640, 640)\n",
            "\n",
            "image 1/1 /content/drive/MyDrive/Dataset_modulo/images/0962.jpg: 640x640 (no detections), 9.6ms\n",
            "Speed: 3.4ms preprocess, 9.6ms inference, 0.6ms postprocess per image at shape (1, 3, 640, 640)\n",
            "\n",
            "image 1/1 /content/drive/MyDrive/Dataset_modulo/images/1113.jpg: 640x640 (no detections), 13.4ms\n",
            "Speed: 6.0ms preprocess, 13.4ms inference, 0.6ms postprocess per image at shape (1, 3, 640, 640)\n",
            "\n",
            "image 1/1 /content/drive/MyDrive/Dataset_modulo/images/0742.jpg: 640x640 (no detections), 12.9ms\n",
            "Speed: 3.3ms preprocess, 12.9ms inference, 0.8ms postprocess per image at shape (1, 3, 640, 640)\n",
            "\n",
            "image 1/1 /content/drive/MyDrive/Dataset_modulo/images/0218.jpg: 640x640 (no detections), 14.8ms\n",
            "Speed: 2.8ms preprocess, 14.8ms inference, 1.1ms postprocess per image at shape (1, 3, 640, 640)\n",
            "\n",
            "image 1/1 /content/drive/MyDrive/Dataset_modulo/images/0293.jpg: 640x640 (no detections), 12.7ms\n",
            "Speed: 6.6ms preprocess, 12.7ms inference, 0.8ms postprocess per image at shape (1, 3, 640, 640)\n",
            "\n",
            "image 1/1 /content/drive/MyDrive/Dataset_modulo/images/0145.jpg: 640x640 (no detections), 18.8ms\n",
            "Speed: 3.0ms preprocess, 18.8ms inference, 1.6ms postprocess per image at shape (1, 3, 640, 640)\n",
            "\n",
            "image 1/1 /content/drive/MyDrive/Dataset_modulo/images/1285.jpg: 640x640 (no detections), 16.2ms\n",
            "Speed: 3.8ms preprocess, 16.2ms inference, 0.8ms postprocess per image at shape (1, 3, 640, 640)\n",
            "\n",
            "image 1/1 /content/drive/MyDrive/Dataset_modulo/images/0093.jpg: 640x640 (no detections), 12.7ms\n",
            "Speed: 3.2ms preprocess, 12.7ms inference, 0.6ms postprocess per image at shape (1, 3, 640, 640)\n",
            "\n",
            "image 1/1 /content/drive/MyDrive/Dataset_modulo/images/1296.jpg: 640x640 (no detections), 9.7ms\n",
            "Speed: 2.5ms preprocess, 9.7ms inference, 0.6ms postprocess per image at shape (1, 3, 640, 640)\n",
            "\n",
            "image 1/1 /content/drive/MyDrive/Dataset_modulo/images/0356.jpg: 640x640 (no detections), 9.5ms\n",
            "Speed: 2.5ms preprocess, 9.5ms inference, 0.6ms postprocess per image at shape (1, 3, 640, 640)\n",
            "\n",
            "image 1/1 /content/drive/MyDrive/Dataset_modulo/images/0042.jpg: 640x640 (no detections), 12.8ms\n",
            "Speed: 4.2ms preprocess, 12.8ms inference, 0.7ms postprocess per image at shape (1, 3, 640, 640)\n",
            "\n",
            "image 1/1 /content/drive/MyDrive/Dataset_modulo/images/0063.jpg: 640x640 (no detections), 9.6ms\n",
            "Speed: 3.7ms preprocess, 9.6ms inference, 0.6ms postprocess per image at shape (1, 3, 640, 640)\n",
            "\n",
            "image 1/1 /content/drive/MyDrive/Dataset_modulo/images/0114.jpg: 640x640 (no detections), 9.0ms\n",
            "Speed: 2.6ms preprocess, 9.0ms inference, 0.6ms postprocess per image at shape (1, 3, 640, 640)\n",
            "\n",
            "image 1/1 /content/drive/MyDrive/Dataset_modulo/images/1099.jpg: 640x640 (no detections), 9.6ms\n",
            "Speed: 2.7ms preprocess, 9.6ms inference, 0.6ms postprocess per image at shape (1, 3, 640, 640)\n",
            "\n",
            "image 1/1 /content/drive/MyDrive/Dataset_modulo/images/0899.jpg: 640x640 (no detections), 10.1ms\n",
            "Speed: 2.6ms preprocess, 10.1ms inference, 0.6ms postprocess per image at shape (1, 3, 640, 640)\n",
            "\n",
            "image 1/1 /content/drive/MyDrive/Dataset_modulo/images/0970.jpg: 640x640 (no detections), 10.7ms\n",
            "Speed: 4.5ms preprocess, 10.7ms inference, 0.7ms postprocess per image at shape (1, 3, 640, 640)\n",
            "\n",
            "image 1/1 /content/drive/MyDrive/Dataset_modulo/images/0302.jpg: 640x640 (no detections), 9.7ms\n",
            "Speed: 2.5ms preprocess, 9.7ms inference, 0.6ms postprocess per image at shape (1, 3, 640, 640)\n",
            "\n",
            "image 1/1 /content/drive/MyDrive/Dataset_modulo/images/0442.jpg: 640x640 (no detections), 10.4ms\n",
            "Speed: 3.8ms preprocess, 10.4ms inference, 0.7ms postprocess per image at shape (1, 3, 640, 640)\n",
            "\n",
            "image 1/1 /content/drive/MyDrive/Dataset_modulo/images/0204.jpg: 640x640 (no detections), 10.2ms\n",
            "Speed: 4.0ms preprocess, 10.2ms inference, 0.6ms postprocess per image at shape (1, 3, 640, 640)\n",
            "\n",
            "image 1/1 /content/drive/MyDrive/Dataset_modulo/images/0789.jpg: 640x640 (no detections), 10.1ms\n",
            "Speed: 2.7ms preprocess, 10.1ms inference, 0.7ms postprocess per image at shape (1, 3, 640, 640)\n",
            "\n",
            "image 1/1 /content/drive/MyDrive/Dataset_modulo/images/1237.jpg: 640x640 (no detections), 10.0ms\n",
            "Speed: 2.6ms preprocess, 10.0ms inference, 0.6ms postprocess per image at shape (1, 3, 640, 640)\n",
            "\n",
            "image 1/1 /content/drive/MyDrive/Dataset_modulo/images/0877.jpg: 640x640 (no detections), 9.8ms\n",
            "Speed: 2.6ms preprocess, 9.8ms inference, 0.6ms postprocess per image at shape (1, 3, 640, 640)\n",
            "\n",
            "image 1/1 /content/drive/MyDrive/Dataset_modulo/images/0696.jpg: 640x640 (no detections), 10.4ms\n",
            "Speed: 3.2ms preprocess, 10.4ms inference, 0.6ms postprocess per image at shape (1, 3, 640, 640)\n",
            "\n",
            "image 1/1 /content/drive/MyDrive/Dataset_modulo/images/0635.jpg: 640x640 (no detections), 9.6ms\n",
            "Speed: 2.7ms preprocess, 9.6ms inference, 0.6ms postprocess per image at shape (1, 3, 640, 640)\n",
            "\n",
            "image 1/1 /content/drive/MyDrive/Dataset_modulo/images/1069.jpg: 640x640 (no detections), 9.8ms\n",
            "Speed: 2.5ms preprocess, 9.8ms inference, 0.6ms postprocess per image at shape (1, 3, 640, 640)\n",
            "\n",
            "image 1/1 /content/drive/MyDrive/Dataset_modulo/images/0548.jpg: 640x640 (no detections), 10.0ms\n",
            "Speed: 3.1ms preprocess, 10.0ms inference, 0.6ms postprocess per image at shape (1, 3, 640, 640)\n",
            "\n",
            "image 1/1 /content/drive/MyDrive/Dataset_modulo/images/0642.jpg: 640x640 (no detections), 9.4ms\n",
            "Speed: 2.5ms preprocess, 9.4ms inference, 0.7ms postprocess per image at shape (1, 3, 640, 640)\n",
            "\n",
            "image 1/1 /content/drive/MyDrive/Dataset_modulo/images/1003.jpg: 640x640 (no detections), 9.6ms\n",
            "Speed: 2.4ms preprocess, 9.6ms inference, 0.6ms postprocess per image at shape (1, 3, 640, 640)\n",
            "\n",
            "image 1/1 /content/drive/MyDrive/Dataset_modulo/images/0687.jpg: 640x640 (no detections), 16.8ms\n",
            "Speed: 7.0ms preprocess, 16.8ms inference, 0.6ms postprocess per image at shape (1, 3, 640, 640)\n",
            "\n",
            "image 1/1 /content/drive/MyDrive/Dataset_modulo/images/0819.jpg: 640x640 (no detections), 11.1ms\n",
            "Speed: 3.7ms preprocess, 11.1ms inference, 0.7ms postprocess per image at shape (1, 3, 640, 640)\n",
            "\n",
            "image 1/1 /content/drive/MyDrive/Dataset_modulo/images/1010.jpg: 640x640 (no detections), 15.9ms\n",
            "Speed: 3.8ms preprocess, 15.9ms inference, 0.6ms postprocess per image at shape (1, 3, 640, 640)\n",
            "\n",
            "image 1/1 /content/drive/MyDrive/Dataset_modulo/images/0566.jpg: 640x640 (no detections), 11.8ms\n",
            "Speed: 2.6ms preprocess, 11.8ms inference, 0.6ms postprocess per image at shape (1, 3, 640, 640)\n",
            "\n",
            "image 1/1 /content/drive/MyDrive/Dataset_modulo/images/1284.jpg: 640x640 (no detections), 13.3ms\n",
            "Speed: 3.8ms preprocess, 13.3ms inference, 0.8ms postprocess per image at shape (1, 3, 640, 640)\n",
            "\n",
            "image 1/1 /content/drive/MyDrive/Dataset_modulo/images/0874.jpg: 640x640 (no detections), 9.6ms\n",
            "Speed: 2.7ms preprocess, 9.6ms inference, 0.6ms postprocess per image at shape (1, 3, 640, 640)\n",
            "\n",
            "image 1/1 /content/drive/MyDrive/Dataset_modulo/images/0065.jpg: 640x640 (no detections), 11.7ms\n",
            "Speed: 3.9ms preprocess, 11.7ms inference, 1.1ms postprocess per image at shape (1, 3, 640, 640)\n",
            "\n",
            "image 1/1 /content/drive/MyDrive/Dataset_modulo/images/0242.jpg: 640x640 (no detections), 9.4ms\n",
            "Speed: 2.4ms preprocess, 9.4ms inference, 0.6ms postprocess per image at shape (1, 3, 640, 640)\n",
            "\n",
            "image 1/1 /content/drive/MyDrive/Dataset_modulo/images/0982.jpg: 640x640 (no detections), 8.9ms\n",
            "Speed: 2.3ms preprocess, 8.9ms inference, 0.6ms postprocess per image at shape (1, 3, 640, 640)\n",
            "\n",
            "image 1/1 /content/drive/MyDrive/Dataset_modulo/images/1215.jpg: 640x640 (no detections), 13.5ms\n",
            "Speed: 3.6ms preprocess, 13.5ms inference, 0.8ms postprocess per image at shape (1, 3, 640, 640)\n",
            "\n",
            "image 1/1 /content/drive/MyDrive/Dataset_modulo/images/0239.jpg: 640x640 (no detections), 10.0ms\n",
            "Speed: 2.4ms preprocess, 10.0ms inference, 0.6ms postprocess per image at shape (1, 3, 640, 640)\n",
            "\n",
            "image 1/1 /content/drive/MyDrive/Dataset_modulo/images/0076.jpg: 640x640 (no detections), 11.2ms\n",
            "Speed: 2.5ms preprocess, 11.2ms inference, 0.8ms postprocess per image at shape (1, 3, 640, 640)\n",
            "\n",
            "image 1/1 /content/drive/MyDrive/Dataset_modulo/images/0287.jpg: 640x640 (no detections), 17.4ms\n",
            "Speed: 4.5ms preprocess, 17.4ms inference, 1.0ms postprocess per image at shape (1, 3, 640, 640)\n",
            "\n",
            "image 1/1 /content/drive/MyDrive/Dataset_modulo/images/0383.jpg: 640x640 (no detections), 17.9ms\n",
            "Speed: 4.1ms preprocess, 17.9ms inference, 0.8ms postprocess per image at shape (1, 3, 640, 640)\n",
            "\n",
            "image 1/1 /content/drive/MyDrive/Dataset_modulo/images/0510.jpg: 640x640 (no detections), 18.7ms\n",
            "Speed: 3.0ms preprocess, 18.7ms inference, 0.9ms postprocess per image at shape (1, 3, 640, 640)\n",
            "\n",
            "image 1/1 /content/drive/MyDrive/Dataset_modulo/images/0827.jpg: 640x640 (no detections), 13.1ms\n",
            "Speed: 3.2ms preprocess, 13.1ms inference, 0.7ms postprocess per image at shape (1, 3, 640, 640)\n",
            "\n",
            "image 1/1 /content/drive/MyDrive/Dataset_modulo/images/0248.jpg: 640x640 (no detections), 17.7ms\n",
            "Speed: 3.0ms preprocess, 17.7ms inference, 0.9ms postprocess per image at shape (1, 3, 640, 640)\n",
            "\n",
            "image 1/1 /content/drive/MyDrive/Dataset_modulo/images/1355.jpg: 640x640 (no detections), 18.0ms\n",
            "Speed: 5.0ms preprocess, 18.0ms inference, 0.8ms postprocess per image at shape (1, 3, 640, 640)\n",
            "\n",
            "image 1/1 /content/drive/MyDrive/Dataset_modulo/images/0241.jpg: 640x640 (no detections), 14.2ms\n",
            "Speed: 4.1ms preprocess, 14.2ms inference, 0.9ms postprocess per image at shape (1, 3, 640, 640)\n",
            "\n",
            "image 1/1 /content/drive/MyDrive/Dataset_modulo/images/0679.jpg: 640x640 (no detections), 18.4ms\n",
            "Speed: 3.9ms preprocess, 18.4ms inference, 0.9ms postprocess per image at shape (1, 3, 640, 640)\n",
            "\n",
            "image 1/1 /content/drive/MyDrive/Dataset_modulo/images/0826.jpg: 640x640 (no detections), 14.8ms\n",
            "Speed: 5.2ms preprocess, 14.8ms inference, 0.7ms postprocess per image at shape (1, 3, 640, 640)\n",
            "\n",
            "image 1/1 /content/drive/MyDrive/Dataset_modulo/images/0044.jpg: 640x640 (no detections), 13.5ms\n",
            "Speed: 4.0ms preprocess, 13.5ms inference, 0.7ms postprocess per image at shape (1, 3, 640, 640)\n",
            "\n",
            "image 1/1 /content/drive/MyDrive/Dataset_modulo/images/0941.jpg: 640x640 (no detections), 17.4ms\n",
            "Speed: 3.3ms preprocess, 17.4ms inference, 1.7ms postprocess per image at shape (1, 3, 640, 640)\n",
            "\n",
            "image 1/1 /content/drive/MyDrive/Dataset_modulo/images/1222.jpg: 640x640 (no detections), 14.1ms\n",
            "Speed: 4.1ms preprocess, 14.1ms inference, 0.7ms postprocess per image at shape (1, 3, 640, 640)\n",
            "\n",
            "image 1/1 /content/drive/MyDrive/Dataset_modulo/images/0220.jpg: 640x640 (no detections), 15.4ms\n",
            "Speed: 3.0ms preprocess, 15.4ms inference, 0.6ms postprocess per image at shape (1, 3, 640, 640)\n",
            "\n",
            "image 1/1 /content/drive/MyDrive/Dataset_modulo/images/1156.jpg: 640x640 (no detections), 13.0ms\n",
            "Speed: 3.6ms preprocess, 13.0ms inference, 0.8ms postprocess per image at shape (1, 3, 640, 640)\n",
            "\n",
            "image 1/1 /content/drive/MyDrive/Dataset_modulo/images/0729.jpg: 640x640 (no detections), 13.9ms\n",
            "Speed: 2.9ms preprocess, 13.9ms inference, 0.8ms postprocess per image at shape (1, 3, 640, 640)\n",
            "\n",
            "image 1/1 /content/drive/MyDrive/Dataset_modulo/images/1183.jpg: 640x640 (no detections), 13.6ms\n",
            "Speed: 3.5ms preprocess, 13.6ms inference, 0.8ms postprocess per image at shape (1, 3, 640, 640)\n",
            "\n",
            "image 1/1 /content/drive/MyDrive/Dataset_modulo/images/0939.jpg: 640x640 (no detections), 12.7ms\n",
            "Speed: 3.2ms preprocess, 12.7ms inference, 0.6ms postprocess per image at shape (1, 3, 640, 640)\n",
            "\n",
            "image 1/1 /content/drive/MyDrive/Dataset_modulo/images/1007.jpg: 640x640 (no detections), 9.2ms\n",
            "Speed: 2.5ms preprocess, 9.2ms inference, 0.6ms postprocess per image at shape (1, 3, 640, 640)\n",
            "\n",
            "image 1/1 /content/drive/MyDrive/Dataset_modulo/images/1115.jpg: 640x640 (no detections), 9.2ms\n",
            "Speed: 2.6ms preprocess, 9.2ms inference, 0.5ms postprocess per image at shape (1, 3, 640, 640)\n",
            "\n",
            "image 1/1 /content/drive/MyDrive/Dataset_modulo/images/0511.jpg: 640x640 (no detections), 9.9ms\n",
            "Speed: 4.5ms preprocess, 9.9ms inference, 0.6ms postprocess per image at shape (1, 3, 640, 640)\n",
            "\n",
            "image 1/1 /content/drive/MyDrive/Dataset_modulo/images/0410.jpg: 640x640 (no detections), 9.3ms\n",
            "Speed: 2.4ms preprocess, 9.3ms inference, 0.6ms postprocess per image at shape (1, 3, 640, 640)\n",
            "\n",
            "image 1/1 /content/drive/MyDrive/Dataset_modulo/images/1174.jpg: 640x640 (no detections), 9.2ms\n",
            "Speed: 3.2ms preprocess, 9.2ms inference, 0.6ms postprocess per image at shape (1, 3, 640, 640)\n",
            "\n",
            "image 1/1 /content/drive/MyDrive/Dataset_modulo/images/1187.jpg: 640x640 (no detections), 9.3ms\n",
            "Speed: 3.6ms preprocess, 9.3ms inference, 0.6ms postprocess per image at shape (1, 3, 640, 640)\n",
            "\n",
            "image 1/1 /content/drive/MyDrive/Dataset_modulo/images/0457.jpg: 640x640 (no detections), 10.7ms\n",
            "Speed: 2.5ms preprocess, 10.7ms inference, 0.6ms postprocess per image at shape (1, 3, 640, 640)\n",
            "\n",
            "image 1/1 /content/drive/MyDrive/Dataset_modulo/images/0848.jpg: 640x640 (no detections), 9.3ms\n",
            "Speed: 2.5ms preprocess, 9.3ms inference, 0.5ms postprocess per image at shape (1, 3, 640, 640)\n",
            "\n",
            "image 1/1 /content/drive/MyDrive/Dataset_modulo/images/1153.jpg: 640x640 (no detections), 13.2ms\n",
            "Speed: 3.9ms preprocess, 13.2ms inference, 0.6ms postprocess per image at shape (1, 3, 640, 640)\n",
            "\n",
            "image 1/1 /content/drive/MyDrive/Dataset_modulo/images/0313.jpg: 640x640 (no detections), 9.1ms\n",
            "Speed: 3.5ms preprocess, 9.1ms inference, 0.6ms postprocess per image at shape (1, 3, 640, 640)\n",
            "\n",
            "image 1/1 /content/drive/MyDrive/Dataset_modulo/images/1068.jpg: 640x640 (no detections), 9.5ms\n",
            "Speed: 4.2ms preprocess, 9.5ms inference, 0.6ms postprocess per image at shape (1, 3, 640, 640)\n",
            "\n",
            "image 1/1 /content/drive/MyDrive/Dataset_modulo/images/0409.jpg: 640x640 (no detections), 9.3ms\n",
            "Speed: 2.5ms preprocess, 9.3ms inference, 0.7ms postprocess per image at shape (1, 3, 640, 640)\n",
            "\n",
            "image 1/1 /content/drive/MyDrive/Dataset_modulo/images/0189.jpg: 640x640 (no detections), 9.4ms\n",
            "Speed: 2.5ms preprocess, 9.4ms inference, 0.6ms postprocess per image at shape (1, 3, 640, 640)\n",
            "\n",
            "image 1/1 /content/drive/MyDrive/Dataset_modulo/images/0943.jpg: 640x640 (no detections), 9.7ms\n",
            "Speed: 2.6ms preprocess, 9.7ms inference, 0.6ms postprocess per image at shape (1, 3, 640, 640)\n",
            "\n",
            "image 1/1 /content/drive/MyDrive/Dataset_modulo/images/0990.jpg: 640x640 (no detections), 10.1ms\n",
            "Speed: 3.0ms preprocess, 10.1ms inference, 0.8ms postprocess per image at shape (1, 3, 640, 640)\n",
            "\n",
            "image 1/1 /content/drive/MyDrive/Dataset_modulo/images/0521.jpg: 640x640 (no detections), 10.2ms\n",
            "Speed: 3.9ms preprocess, 10.2ms inference, 0.5ms postprocess per image at shape (1, 3, 640, 640)\n",
            "\n",
            "image 1/1 /content/drive/MyDrive/Dataset_modulo/images/0674.jpg: 640x640 (no detections), 9.2ms\n",
            "Speed: 2.7ms preprocess, 9.2ms inference, 0.6ms postprocess per image at shape (1, 3, 640, 640)\n",
            "\n",
            "image 1/1 /content/drive/MyDrive/Dataset_modulo/images/0225.jpg: 640x640 (no detections), 9.7ms\n",
            "Speed: 2.5ms preprocess, 9.7ms inference, 0.5ms postprocess per image at shape (1, 3, 640, 640)\n",
            "\n",
            "image 1/1 /content/drive/MyDrive/Dataset_modulo/images/1058.jpg: 640x640 (no detections), 9.4ms\n",
            "Speed: 3.8ms preprocess, 9.4ms inference, 0.6ms postprocess per image at shape (1, 3, 640, 640)\n",
            "\n",
            "image 1/1 /content/drive/MyDrive/Dataset_modulo/images/0804.jpg: 640x640 (no detections), 9.3ms\n",
            "Speed: 2.8ms preprocess, 9.3ms inference, 0.6ms postprocess per image at shape (1, 3, 640, 640)\n",
            "\n",
            "image 1/1 /content/drive/MyDrive/Dataset_modulo/images/1305.jpg: 640x640 (no detections), 9.8ms\n",
            "Speed: 2.6ms preprocess, 9.8ms inference, 0.6ms postprocess per image at shape (1, 3, 640, 640)\n",
            "\n",
            "image 1/1 /content/drive/MyDrive/Dataset_modulo/images/0964.jpg: 640x640 (no detections), 13.5ms\n",
            "Speed: 4.0ms preprocess, 13.5ms inference, 0.6ms postprocess per image at shape (1, 3, 640, 640)\n",
            "\n",
            "image 1/1 /content/drive/MyDrive/Dataset_modulo/images/1350.jpg: 640x640 (no detections), 12.3ms\n",
            "Speed: 2.5ms preprocess, 12.3ms inference, 0.7ms postprocess per image at shape (1, 3, 640, 640)\n",
            "\n",
            "image 1/1 /content/drive/MyDrive/Dataset_modulo/images/0229.jpg: 640x640 (no detections), 9.9ms\n",
            "Speed: 3.6ms preprocess, 9.9ms inference, 0.7ms postprocess per image at shape (1, 3, 640, 640)\n",
            "\n",
            "image 1/1 /content/drive/MyDrive/Dataset_modulo/images/0489.jpg: 640x640 (no detections), 9.2ms\n",
            "Speed: 2.4ms preprocess, 9.2ms inference, 0.6ms postprocess per image at shape (1, 3, 640, 640)\n",
            "\n",
            "image 1/1 /content/drive/MyDrive/Dataset_modulo/images/0940.jpg: 640x640 (no detections), 14.8ms\n",
            "Speed: 3.4ms preprocess, 14.8ms inference, 0.7ms postprocess per image at shape (1, 3, 640, 640)\n",
            "\n",
            "image 1/1 /content/drive/MyDrive/Dataset_modulo/images/0147.jpg: 640x640 (no detections), 17.1ms\n",
            "Speed: 3.0ms preprocess, 17.1ms inference, 0.7ms postprocess per image at shape (1, 3, 640, 640)\n",
            "\n",
            "image 1/1 /content/drive/MyDrive/Dataset_modulo/images/1199.jpg: 640x640 (no detections), 13.7ms\n",
            "Speed: 3.4ms preprocess, 13.7ms inference, 0.7ms postprocess per image at shape (1, 3, 640, 640)\n",
            "\n",
            "image 1/1 /content/drive/MyDrive/Dataset_modulo/images/0968.jpg: 640x640 (no detections), 16.6ms\n",
            "Speed: 3.0ms preprocess, 16.6ms inference, 1.1ms postprocess per image at shape (1, 3, 640, 640)\n",
            "\n",
            "image 1/1 /content/drive/MyDrive/Dataset_modulo/images/0699.jpg: 640x640 (no detections), 13.7ms\n",
            "Speed: 4.0ms preprocess, 13.7ms inference, 0.8ms postprocess per image at shape (1, 3, 640, 640)\n",
            "\n",
            "image 1/1 /content/drive/MyDrive/Dataset_modulo/images/0379.jpg: 640x640 (no detections), 17.7ms\n",
            "Speed: 3.0ms preprocess, 17.7ms inference, 0.9ms postprocess per image at shape (1, 3, 640, 640)\n",
            "\n",
            "image 1/1 /content/drive/MyDrive/Dataset_modulo/images/0232.jpg: 640x640 (no detections), 13.4ms\n",
            "Speed: 4.0ms preprocess, 13.4ms inference, 0.8ms postprocess per image at shape (1, 3, 640, 640)\n",
            "\n",
            "image 1/1 /content/drive/MyDrive/Dataset_modulo/images/0365.jpg: 640x640 (no detections), 24.7ms\n",
            "Speed: 3.3ms preprocess, 24.7ms inference, 0.9ms postprocess per image at shape (1, 3, 640, 640)\n",
            "\n",
            "image 1/1 /content/drive/MyDrive/Dataset_modulo/images/1037.jpg: 640x640 (no detections), 13.0ms\n",
            "Speed: 5.8ms preprocess, 13.0ms inference, 0.9ms postprocess per image at shape (1, 3, 640, 640)\n",
            "\n",
            "image 1/1 /content/drive/MyDrive/Dataset_modulo/images/1186.jpg: 640x640 (no detections), 14.0ms\n",
            "Speed: 2.7ms preprocess, 14.0ms inference, 1.0ms postprocess per image at shape (1, 3, 640, 640)\n",
            "\n",
            "image 1/1 /content/drive/MyDrive/Dataset_modulo/images/1309.jpg: 640x640 (no detections), 9.0ms\n",
            "Speed: 2.5ms preprocess, 9.0ms inference, 0.7ms postprocess per image at shape (1, 3, 640, 640)\n",
            "\n",
            "image 1/1 /content/drive/MyDrive/Dataset_modulo/images/0182.jpg: 640x640 (no detections), 9.5ms\n",
            "Speed: 2.6ms preprocess, 9.5ms inference, 0.6ms postprocess per image at shape (1, 3, 640, 640)\n",
            "\n",
            "image 1/1 /content/drive/MyDrive/Dataset_modulo/images/0896.jpg: 640x640 (no detections), 11.5ms\n",
            "Speed: 5.3ms preprocess, 11.5ms inference, 0.6ms postprocess per image at shape (1, 3, 640, 640)\n",
            "\n",
            "image 1/1 /content/drive/MyDrive/Dataset_modulo/images/0837.jpg: 640x640 (no detections), 9.9ms\n",
            "Speed: 2.7ms preprocess, 9.9ms inference, 0.7ms postprocess per image at shape (1, 3, 640, 640)\n",
            "\n",
            "image 1/1 /content/drive/MyDrive/Dataset_modulo/images/0407.jpg: 640x640 (no detections), 9.1ms\n",
            "Speed: 3.4ms preprocess, 9.1ms inference, 0.6ms postprocess per image at shape (1, 3, 640, 640)\n",
            "\n",
            "image 1/1 /content/drive/MyDrive/Dataset_modulo/images/0127.jpg: 640x640 (no detections), 9.6ms\n",
            "Speed: 4.9ms preprocess, 9.6ms inference, 0.6ms postprocess per image at shape (1, 3, 640, 640)\n",
            "\n",
            "image 1/1 /content/drive/MyDrive/Dataset_modulo/images/0490.jpg: 640x640 (no detections), 15.1ms\n",
            "Speed: 4.0ms preprocess, 15.1ms inference, 0.6ms postprocess per image at shape (1, 3, 640, 640)\n",
            "\n",
            "image 1/1 /content/drive/MyDrive/Dataset_modulo/images/0865.jpg: 640x640 (no detections), 13.2ms\n",
            "Speed: 3.2ms preprocess, 13.2ms inference, 0.7ms postprocess per image at shape (1, 3, 640, 640)\n",
            "\n",
            "image 1/1 /content/drive/MyDrive/Dataset_modulo/images/1253.jpg: 640x640 (no detections), 9.5ms\n",
            "Speed: 2.3ms preprocess, 9.5ms inference, 0.6ms postprocess per image at shape (1, 3, 640, 640)\n",
            "\n",
            "image 1/1 /content/drive/MyDrive/Dataset_modulo/images/0420.jpg: 640x640 (no detections), 9.7ms\n",
            "Speed: 3.2ms preprocess, 9.7ms inference, 0.5ms postprocess per image at shape (1, 3, 640, 640)\n",
            "\n",
            "image 1/1 /content/drive/MyDrive/Dataset_modulo/images/0006.jpg: 640x640 (no detections), 11.0ms\n",
            "Speed: 5.0ms preprocess, 11.0ms inference, 0.6ms postprocess per image at shape (1, 3, 640, 640)\n",
            "\n",
            "image 1/1 /content/drive/MyDrive/Dataset_modulo/images/0400.jpg: 640x640 (no detections), 9.7ms\n",
            "Speed: 2.4ms preprocess, 9.7ms inference, 0.6ms postprocess per image at shape (1, 3, 640, 640)\n",
            "\n",
            "image 1/1 /content/drive/MyDrive/Dataset_modulo/images/0818.jpg: 640x640 (no detections), 9.9ms\n",
            "Speed: 3.8ms preprocess, 9.9ms inference, 0.8ms postprocess per image at shape (1, 3, 640, 640)\n",
            "\n",
            "image 1/1 /content/drive/MyDrive/Dataset_modulo/images/0785.jpg: 640x640 (no detections), 9.7ms\n",
            "Speed: 2.7ms preprocess, 9.7ms inference, 0.6ms postprocess per image at shape (1, 3, 640, 640)\n",
            "\n",
            "image 1/1 /content/drive/MyDrive/Dataset_modulo/images/0113.jpg: 640x640 (no detections), 24.1ms\n",
            "Speed: 4.3ms preprocess, 24.1ms inference, 2.3ms postprocess per image at shape (1, 3, 640, 640)\n",
            "\n",
            "image 1/1 /content/drive/MyDrive/Dataset_modulo/images/0920.jpg: 640x640 (no detections), 14.8ms\n",
            "Speed: 4.1ms preprocess, 14.8ms inference, 0.8ms postprocess per image at shape (1, 3, 640, 640)\n",
            "\n",
            "image 1/1 /content/drive/MyDrive/Dataset_modulo/images/1326.jpg: 640x640 (no detections), 14.5ms\n",
            "Speed: 3.7ms preprocess, 14.5ms inference, 0.9ms postprocess per image at shape (1, 3, 640, 640)\n",
            "\n",
            "image 1/1 /content/drive/MyDrive/Dataset_modulo/images/1218.jpg: 640x640 (no detections), 16.9ms\n",
            "Speed: 4.0ms preprocess, 16.9ms inference, 1.0ms postprocess per image at shape (1, 3, 640, 640)\n",
            "\n",
            "image 1/1 /content/drive/MyDrive/Dataset_modulo/images/0514.jpg: 640x640 (no detections), 20.8ms\n",
            "Speed: 4.1ms preprocess, 20.8ms inference, 1.0ms postprocess per image at shape (1, 3, 640, 640)\n",
            "\n",
            "image 1/1 /content/drive/MyDrive/Dataset_modulo/images/0565.jpg: 640x640 (no detections), 15.7ms\n",
            "Speed: 3.9ms preprocess, 15.7ms inference, 1.0ms postprocess per image at shape (1, 3, 640, 640)\n",
            "\n",
            "image 1/1 /content/drive/MyDrive/Dataset_modulo/images/0276.jpg: 640x640 (no detections), 17.2ms\n",
            "Speed: 4.0ms preprocess, 17.2ms inference, 0.8ms postprocess per image at shape (1, 3, 640, 640)\n",
            "\n",
            "image 1/1 /content/drive/MyDrive/Dataset_modulo/images/0278.jpg: 640x640 (no detections), 12.4ms\n",
            "Speed: 4.1ms preprocess, 12.4ms inference, 0.8ms postprocess per image at shape (1, 3, 640, 640)\n",
            "\n",
            "image 1/1 /content/drive/MyDrive/Dataset_modulo/images/1244.jpg: 640x640 (no detections), 15.9ms\n",
            "Speed: 4.0ms preprocess, 15.9ms inference, 0.9ms postprocess per image at shape (1, 3, 640, 640)\n",
            "\n",
            "image 1/1 /content/drive/MyDrive/Dataset_modulo/images/0611.jpg: 640x640 (no detections), 13.8ms\n",
            "Speed: 4.2ms preprocess, 13.8ms inference, 0.8ms postprocess per image at shape (1, 3, 640, 640)\n",
            "\n",
            "image 1/1 /content/drive/MyDrive/Dataset_modulo/images/1133.jpg: 640x640 (no detections), 16.3ms\n",
            "Speed: 4.0ms preprocess, 16.3ms inference, 0.9ms postprocess per image at shape (1, 3, 640, 640)\n",
            "\n",
            "image 1/1 /content/drive/MyDrive/Dataset_modulo/images/0020.jpg: 640x640 (no detections), 18.8ms\n",
            "Speed: 4.0ms preprocess, 18.8ms inference, 0.9ms postprocess per image at shape (1, 3, 640, 640)\n",
            "\n",
            "image 1/1 /content/drive/MyDrive/Dataset_modulo/images/1022.jpg: 640x640 (no detections), 18.2ms\n",
            "Speed: 3.8ms preprocess, 18.2ms inference, 0.9ms postprocess per image at shape (1, 3, 640, 640)\n",
            "\n",
            "image 1/1 /content/drive/MyDrive/Dataset_modulo/images/1256.jpg: 640x640 (no detections), 19.0ms\n",
            "Speed: 3.8ms preprocess, 19.0ms inference, 1.0ms postprocess per image at shape (1, 3, 640, 640)\n",
            "\n",
            "image 1/1 /content/drive/MyDrive/Dataset_modulo/images/0681.jpg: 640x640 (no detections), 17.5ms\n",
            "Speed: 4.2ms preprocess, 17.5ms inference, 0.8ms postprocess per image at shape (1, 3, 640, 640)\n",
            "\n",
            "image 1/1 /content/drive/MyDrive/Dataset_modulo/images/0936.jpg: 640x640 (no detections), 23.7ms\n",
            "Speed: 4.5ms preprocess, 23.7ms inference, 1.4ms postprocess per image at shape (1, 3, 640, 640)\n",
            "\n",
            "image 1/1 /content/drive/MyDrive/Dataset_modulo/images/0184.jpg: 640x640 (no detections), 21.7ms\n",
            "Speed: 6.1ms preprocess, 21.7ms inference, 1.5ms postprocess per image at shape (1, 3, 640, 640)\n",
            "\n",
            "image 1/1 /content/drive/MyDrive/Dataset_modulo/images/0392.jpg: 640x640 (no detections), 16.3ms\n",
            "Speed: 5.9ms preprocess, 16.3ms inference, 1.5ms postprocess per image at shape (1, 3, 640, 640)\n",
            "\n",
            "image 1/1 /content/drive/MyDrive/Dataset_modulo/images/0886.jpg: 640x640 (no detections), 20.9ms\n",
            "Speed: 3.6ms preprocess, 20.9ms inference, 0.9ms postprocess per image at shape (1, 3, 640, 640)\n",
            "\n",
            "image 1/1 /content/drive/MyDrive/Dataset_modulo/images/0308.jpg: 640x640 (no detections), 23.1ms\n",
            "Speed: 4.2ms preprocess, 23.1ms inference, 1.5ms postprocess per image at shape (1, 3, 640, 640)\n",
            "\n",
            "image 1/1 /content/drive/MyDrive/Dataset_modulo/images/1228.jpg: 640x640 (no detections), 15.8ms\n",
            "Speed: 7.9ms preprocess, 15.8ms inference, 2.5ms postprocess per image at shape (1, 3, 640, 640)\n",
            "\n",
            "image 1/1 /content/drive/MyDrive/Dataset_modulo/images/0847.jpg: 640x640 (no detections), 14.9ms\n",
            "Speed: 4.7ms preprocess, 14.9ms inference, 0.8ms postprocess per image at shape (1, 3, 640, 640)\n",
            "\n",
            "image 1/1 /content/drive/MyDrive/Dataset_modulo/images/0756.jpg: 640x640 (no detections), 14.6ms\n",
            "Speed: 3.7ms preprocess, 14.6ms inference, 0.7ms postprocess per image at shape (1, 3, 640, 640)\n",
            "\n",
            "image 1/1 /content/drive/MyDrive/Dataset_modulo/images/0862.jpg: 640x640 (no detections), 16.1ms\n",
            "Speed: 4.6ms preprocess, 16.1ms inference, 0.8ms postprocess per image at shape (1, 3, 640, 640)\n",
            "\n",
            "image 1/1 /content/drive/MyDrive/Dataset_modulo/images/0259.jpg: 640x640 (no detections), 13.6ms\n",
            "Speed: 3.6ms preprocess, 13.6ms inference, 0.9ms postprocess per image at shape (1, 3, 640, 640)\n",
            "\n",
            "image 1/1 /content/drive/MyDrive/Dataset_modulo/images/0304.jpg: 640x640 (no detections), 13.7ms\n",
            "Speed: 5.7ms preprocess, 13.7ms inference, 0.9ms postprocess per image at shape (1, 3, 640, 640)\n",
            "\n",
            "image 1/1 /content/drive/MyDrive/Dataset_modulo/images/0418.jpg: 640x640 (no detections), 16.1ms\n",
            "Speed: 3.9ms preprocess, 16.1ms inference, 1.0ms postprocess per image at shape (1, 3, 640, 640)\n",
            "\n",
            "image 1/1 /content/drive/MyDrive/Dataset_modulo/images/0741.jpg: 640x640 (no detections), 13.9ms\n",
            "Speed: 4.4ms preprocess, 13.9ms inference, 0.8ms postprocess per image at shape (1, 3, 640, 640)\n",
            "\n",
            "image 1/1 /content/drive/MyDrive/Dataset_modulo/images/1112.jpg: 640x640 (no detections), 15.6ms\n",
            "Speed: 3.7ms preprocess, 15.6ms inference, 0.9ms postprocess per image at shape (1, 3, 640, 640)\n",
            "Inferencia completada para evaluación.\n"
          ]
        }
      ]
    },
    {
      "cell_type": "code",
      "source": [
        "#@title Evaluar métricas de rendimiento del modelo YOLO\n",
        "import matplotlib.pyplot as plt\n",
        "import numpy as np\n",
        "\n",
        "# Obtener métricas de evaluación\n",
        "evaluation_results = model.val()\n",
        "\n",
        "# Extraer métricas correctamente\n",
        "precision = evaluation_results.results_dict['metrics/precision(B)']\n",
        "recall = evaluation_results.results_dict['metrics/recall(B)']\n",
        "map50 = evaluation_results.results_dict['metrics/mAP50(B)']  # Corregido\n",
        "map50_95 = evaluation_results.results_dict['metrics/mAP50-95(B)']  # Corregido\n",
        "\n",
        "# Mostrar resultados\n",
        "print(f\"Precisión: {precision:.3f}\")\n",
        "print(f\"Recall: {recall:.3f}\")\n",
        "print(f\"mAP@50: {map50:.3f}\")\n",
        "print(f\"mAP@50-95: {map50_95:.3f}\")\n",
        "\n",
        "# Graficar métricas\n",
        "metrics = ['Precision', 'Recall', 'mAP@50', 'mAP@50-95']\n",
        "values = [precision, recall, map50, map50_95]\n",
        "\n",
        "plt.figure(figsize=(8, 5))\n",
        "plt.bar(metrics, values, color=['blue', 'green', 'orange', 'red'])\n",
        "plt.ylim(0, 1)\n",
        "plt.ylabel(\"Valor\")\n",
        "plt.title(\"Métricas de Evaluación del Modelo YOLO\")\n",
        "plt.show()\n",
        "\n",
        "print(\"Evaluación de métricas completada.\")"
      ],
      "metadata": {
        "colab": {
          "base_uri": "https://localhost:8080/",
          "height": 676
        },
        "id": "wg64oQt-oiLC",
        "outputId": "55496be5-55a4-4983-be7c-8ed5898cbd0f",
        "cellView": "form"
      },
      "execution_count": null,
      "outputs": [
        {
          "output_type": "stream",
          "name": "stdout",
          "text": [
            "Ultralytics 8.3.95 🚀 Python-3.11.11 torch-2.6.0+cu124 CUDA:0 (Tesla T4, 15095MiB)\n",
            "YOLO11n summary (fused): 100 layers, 2,582,347 parameters, 0 gradients, 6.3 GFLOPs\n"
          ]
        },
        {
          "output_type": "stream",
          "name": "stderr",
          "text": [
            "\u001b[34m\u001b[1mval: \u001b[0mScanning /content/drive/MyDrive/Dataset_standar_procesado/labels.cache... 272 images, 0 backgrounds, 0 corrupt: 100%|██████████| 272/272 [00:00<?, ?it/s]\n",
            "                 Class     Images  Instances      Box(P          R      mAP50  mAP50-95): 100%|██████████| 17/17 [00:04<00:00,  4.11it/s]\n"
          ]
        },
        {
          "output_type": "stream",
          "name": "stdout",
          "text": [
            "                   all        272        298      0.968      0.933      0.972      0.697\n",
            "Speed: 0.9ms preprocess, 5.6ms inference, 0.0ms loss, 1.7ms postprocess per image\n",
            "Results saved to \u001b[1mruns/detect/train32\u001b[0m\n",
            "Precisión: 0.968\n",
            "Recall: 0.933\n",
            "mAP@50: 0.972\n",
            "mAP@50-95: 0.697\n"
          ]
        },
        {
          "output_type": "display_data",
          "data": {
            "text/plain": [
              "<Figure size 800x500 with 1 Axes>"
            ],
            "image/png": "[encoded data removed]"
          },
          "metadata": {}
        },
        {
          "output_type": "stream",
          "name": "stdout",
          "text": [
            "Evaluación de métricas completada.\n"
          ]
        }
      ]
    },
    {
      "source": [
        "#@title Guardar el modelo\n",
        "\n",
        "from google.colab import drive\n",
        "import shutil\n",
        "import os\n",
        "\n",
        "# Ruta donde se guarda el modelo entrenado en Colab\n",
        "model_path = \"/content/runs/detect/train3/weights/best.pt\"\n",
        "\n",
        "# Ruta de destino en Google Drive\n",
        "save_path = \"/content/drive/MyDrive/Dataset_standar_procesado/Model\"\n",
        "\n",
        "# Crear el directorio si no existe\n",
        "os.makedirs(os.path.dirname(save_path), exist_ok=True)\n",
        "\n",
        "# Copiar el modelo a Google Drive\n",
        "shutil.copy(model_path, save_path)\n",
        "\n",
        "print(f\"Modelo guardado en {save_path}\")"
      ],
      "cell_type": "code",
      "metadata": {
        "colab": {
          "base_uri": "https://localhost:8080/"
        },
        "id": "e5GK1eIsriHr",
        "outputId": "390d5ada-d421-4b79-d369-93a6fb6f3ba9",
        "cellView": "form"
      },
      "execution_count": null,
      "outputs": [
        {
          "output_type": "stream",
          "name": "stdout",
          "text": [
            "Modelo guardado en /content/drive/MyDrive/Dataset_standar_procesado/Model\n"
          ]
        }
      ]
    },
    {
      "cell_type": "code",
      "source": [
        "#@title Cargar modelo entrenado\n",
        "from ultralytics import YOLO\n",
        "# Ruta del modelo guardado en Drive\n",
        "model_path = \"/content/drive/MyDrive/Dataset_standar_procesado/Model/best.pt\"\n",
        "# Cargar el modelo\n",
        "model = YOLO(model_path)"
      ],
      "metadata": {
        "id": "ZqNnyI_csC-S",
        "cellView": "form"
      },
      "execution_count": null,
      "outputs": []
    },
    {
      "cell_type": "code",
      "source": [
        "#@title Probar el modelo con una imagen\n",
        "results = model(\"/content/drive/MyDrive/Dataset_standar_procesado/images/0001.jpg\")\n",
        "# Mostrar resultados\n",
        "results[0].show()"
      ],
      "metadata": {
        "colab": {
          "base_uri": "https://localhost:8080/",
          "height": 296
        },
        "id": "cNqOHc9bsGq7",
        "outputId": "d4e4a0ca-085e-4810-a61e-9db53d92054b",
        "cellView": "form"
      },
      "execution_count": null,
      "outputs": [
        {
          "output_type": "stream",
          "name": "stdout",
          "text": [
            "\n",
            "image 1/1 /content/drive/MyDrive/Dataset_standar_procesado/images/0001.jpg: 256x512 5 drones, 118.3ms\n",
            "Speed: 1.3ms preprocess, 118.3ms inference, 1.8ms postprocess per image at shape (1, 3, 256, 512)\n"
          ]
        },
        {
          "output_type": "display_data",
          "data": {
            "text/plain": [
              "<PIL.Image.Image image mode=RGB size=512x227>"
            ],
            "image/png": "[encoded data removed]",
            "image/jpeg": "[encoded data removed]"
          },
          "metadata": {}
        }
      ]
    },
    {
      "cell_type": "code",
      "source": [
        "#@title Calculo de metricas\n",
        "import time\n",
        "# Calcular F1-Score\n",
        "f1_score = 2 * (precision * recall) / (precision + recall)\n",
        "\n",
        "# Medir FPS y Latencia en inferencia\n",
        "num_samples = 50  # Número de imágenes de prueba\n",
        "image_files = [f for f in os.listdir(images_path) if f.endswith(\".jpg\")]\n",
        "selected_images = np.random.choice(image_files, min(num_samples, len(image_files)), replace=False)\n",
        "\n",
        "total_time = 0\n",
        "for img_name in selected_images:\n",
        "    img_path = os.path.join(images_path, img_name)\n",
        "    start_time = time.time()\n",
        "    _ = model(img_path)  # Inferencia\n",
        "    total_time += time.time() - start_time\n",
        "\n",
        "latency = (total_time / num_samples) * 1000  # ms por imagen\n",
        "fps = num_samples / total_time  # Frames por segundo\n",
        "\n",
        "# Mostrar métricas\n",
        "print(f\"F1-Score: {f1_score:.3f}\")\n",
        "print(f\"FPS (Frames per Second): {fps:.2f}\")\n",
        "print(f\"Latencia promedio: {latency:.2f} ms\")\n",
        "\n",
        "# Graficar métricas\n",
        "metrics = [precision, recall, map50, map50_95, f1_score, fps]\n",
        "names = [\"Precision\", \"Recall\", \"mAP@50\", \"mAP@50-95\", \"F1-Score\", \"FPS\"]\n",
        "colors = [\"blue\", \"green\", \"orange\", \"red\", \"purple\", \"cyan\"]\n",
        "\n",
        "plt.figure(figsize=(10, 6))\n",
        "plt.bar(names, metrics, color=colors)\n",
        "plt.ylabel(\"Valor\")\n",
        "plt.title(\"Métricas de Evaluación del Modelo YOLO\")\n",
        "plt.ylim(0, 1.2 if fps < 1 else fps * 1.2)\n",
        "plt.show()"
      ],
      "metadata": {
        "id": "6cPbSMZex9aG",
        "cellView": "form"
      },
      "execution_count": null,
      "outputs": []
    }
  ]
}