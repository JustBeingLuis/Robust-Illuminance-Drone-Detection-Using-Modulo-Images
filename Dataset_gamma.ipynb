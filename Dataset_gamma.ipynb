{
  "nbformat": 4,
  "nbformat_minor": 0,
  "metadata": {
    "colab": {
      "provenance": []
    },
    "kernelspec": {
      "name": "python3",
      "display_name": "Python 3"
    },
    "language_info": {
      "name": "python"
    }
  },
  "cells": [
    {
      "cell_type": "code",
      "source": [
        "#@title Montar drive\n",
        "from google.colab import drive\n",
        "drive.mount('/content/drive')"
      ],
      "metadata": {
        "colab": {
          "base_uri": "https://localhost:8080/"
        },
        "id": "gTcFYKOmIQDa",
        "outputId": "6013de93-5d81-41b3-cfd1-114c48eda269"
      },
      "execution_count": null,
      "outputs": [
        {
          "output_type": "stream",
          "name": "stdout",
          "text": [
            "Drive already mounted at /content/drive; to attempt to forcibly remount, call drive.mount(\"/content/drive\", force_remount=True).\n"
          ]
        }
      ]
    },
    {
      "cell_type": "code",
      "execution_count": null,
      "metadata": {
        "colab": {
          "base_uri": "https://localhost:8080/"
        },
        "id": "jzZItwQ5AOLx",
        "outputId": "5a69beb4-8526-44e6-ddb8-3ed591c95204"
      },
      "outputs": [
        {
          "output_type": "stream",
          "name": "stdout",
          "text": [
            "Carpeta de salida creada: /content/drive/MyDrive/Dataset_gamma/images_3\n"
          ]
        }
      ],
      "source": [
        "#@title Definir rutas de entrada y salida\n",
        "input_folder = \"/content/drive/MyDrive/Dataset_standar_procesado/images_base\"  # 📂 Carpeta con imágenes originales\n",
        "output_folder = \"/content/drive/MyDrive/Dataset_gamma/images_3\"  # 📂 Carpeta de salida\n",
        "\n",
        "print(f\"Carpeta de salida creada: {output_folder}\")\n"
      ]
    },
    {
      "cell_type": "code",
      "source": [
        "#@title Procesamiento completo\n",
        "import cv2\n",
        "import numpy as np\n",
        "from tqdm import tqdm\n",
        "import os\n",
        "\n",
        "alpha = 3\n",
        "\n",
        "image_files = [f for f in os.listdir(input_folder) if f.endswith(('.jpg'))]\n",
        "\n",
        "# Procesar cada imagen\n",
        "for img_name in tqdm(image_files, desc=\"Procesando imágenes\"):\n",
        "\n",
        "    img_path = os.path.join(input_folder, img_name)\n",
        "\n",
        "    img = cv2.imread(img_path)\n",
        "    img = cv2.cvtColor(img, cv2.COLOR_BGR2RGB).astype(np.float32) / 255\n",
        "    brightened_img = np.clip(alpha * img, 0, 1)\n",
        "    brightened_img = (brightened_img * 255).astype(np.uint8)\n",
        "\n",
        "    # Guardar la imagen en la carpeta de salida\n",
        "    output_path = os.path.join(output_folder, img_name)\n",
        "    cv2.imwrite(output_path, brightened_img[...,::-1])\n",
        "\n",
        "print(\"✅ Transformación completada. Imágenes guardadas en Dataset_gamma.\")\n"
      ],
      "metadata": {
        "colab": {
          "base_uri": "https://localhost:8080/"
        },
        "id": "HJnTcoFDAqN8",
        "outputId": "795c7434-367a-49ff-d209-bdfda2422432"
      },
      "execution_count": null,
      "outputs": [
        {
          "output_type": "stream",
          "name": "stderr",
          "text": [
            "Procesando imágenes: 100%|██████████| 1359/1359 [01:16<00:00, 17.65it/s]"
          ]
        },
        {
          "output_type": "stream",
          "name": "stdout",
          "text": [
            "✅ Transformación completada. Imágenes guardadas en Dataset_gamma.\n"
          ]
        },
        {
          "output_type": "stream",
          "name": "stderr",
          "text": [
            "\n"
          ]
        }
      ]
    }
  ]
}