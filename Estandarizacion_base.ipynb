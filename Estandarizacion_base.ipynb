{
  "nbformat": 4,
  "nbformat_minor": 0,
  "metadata": {
    "colab": {
      "provenance": []
    },
    "kernelspec": {
      "name": "python3",
      "display_name": "Python 3"
    },
    "language_info": {
      "name": "python"
    }
  },
  "cells": [
    {
      "cell_type": "code",
      "execution_count": null,
      "metadata": {
        "colab": {
          "base_uri": "https://localhost:8080/"
        },
        "cellView": "form",
        "id": "gfK06MP-8R3K",
        "outputId": "950dda6f-9174-4bcb-fad1-a5f1f228e45e"
      },
      "outputs": [
        {
          "output_type": "stream",
          "name": "stdout",
          "text": [
            "Mounted at /content/drive\n"
          ]
        }
      ],
      "source": [
        "#@title Montar drive\n",
        "from google.colab import drive\n",
        "drive.mount('/content/drive')\n"
      ]
    },
    {
      "cell_type": "code",
      "source": [
        "#@title Rutas\n",
        "import cv2\n",
        "import os\n",
        "input_folder = \"/content/drive/MyDrive/Dataset_standar/images\"\n",
        "\n",
        "# Carpeta para guardar las imágenes procesadas\n",
        "output_folder = \"/content/drive/MyDrive/Dataset_standar_procesado/images_base\"\n",
        "os.makedirs(output_folder, exist_ok=True)  # Crear la carpeta si no existe"
      ],
      "metadata": {
        "id": "E5l2M1R58x7c",
        "cellView": "form"
      },
      "execution_count": null,
      "outputs": []
    },
    {
      "cell_type": "code",
      "source": [
        "#@title UTILS\n",
        "\n",
        "# Función para redimensionar la imagen manteniendo el aspecto\n",
        "def resize_manteniendo_aspecto(img, nuevo_lado_largo=512):\n",
        "    h, w = img.shape[:2]  # Obtener altura y ancho de la imagen\n",
        "\n",
        "    # Determinar si el lado más largo es el alto o el ancho\n",
        "    if h > w:\n",
        "        nuevo_h = nuevo_lado_largo\n",
        "        nuevo_w = int((w / h) * nuevo_lado_largo)\n",
        "    else:\n",
        "        nuevo_w = nuevo_lado_largo\n",
        "        nuevo_h = int((h / w) * nuevo_lado_largo)\n",
        "\n",
        "    # Redimensionar la imagen\n",
        "    img_resized = cv2.resize(img, (nuevo_w * 2, nuevo_h * 2), interpolation=cv2.INTER_AREA)\n",
        "    return img_resized"
      ],
      "metadata": {
        "id": "nglM9SMk-J5L",
        "cellView": "form"
      },
      "execution_count": null,
      "outputs": []
    },
    {
      "cell_type": "code",
      "source": [
        "#@title Procesamiento\n",
        "from tqdm import tqdm\n",
        "\n",
        "# Obtener la lista de imágenes en la carpeta\n",
        "image_files = [f for f in os.listdir(input_folder) if f.endswith('.jpg')]\n",
        "\n",
        "for img_name in tqdm(image_files, desc=\"Procesando imágenes\"):\n",
        "    # Leer imagen\n",
        "    img_path = os.path.join(input_folder, img_name)\n",
        "    img = cv2.imread(img_path)\n",
        "\n",
        "    if img is None:\n",
        "        print(f\"⚠️ No se pudo leer {img_name}, saltando...\")\n",
        "        continue\n",
        "\n",
        "    img_resized = resize_manteniendo_aspecto(img, nuevo_lado_largo=512)\n",
        "\n",
        "    # Guardar la imagen en la carpeta de salida\n",
        "    output_path = os.path.join(output_folder, img_name)\n",
        "    cv2.imwrite(os.path.join(output_folder, img_name), img_resized)\n",
        "\n",
        "print(\"✅ Transformación completada. Imágenes guardadas en\", output_folder)\n"
      ],
      "metadata": {
        "colab": {
          "base_uri": "https://localhost:8080/"
        },
        "id": "9DaJdypkC0dX",
        "outputId": "c68b4a7f-3fcf-4c3d-fc33-959a38dd7713",
        "cellView": "form"
      },
      "execution_count": null,
      "outputs": [
        {
          "output_type": "stream",
          "name": "stderr",
          "text": [
            "Procesando imágenes: 100%|██████████| 1359/1359 [06:36<00:00,  3.43it/s]"
          ]
        },
        {
          "output_type": "stream",
          "name": "stdout",
          "text": [
            "✅ Transformación completada. Imágenes guardadas en /content/drive/MyDrive/Dataset_standar_procesado/images\n"
          ]
        },
        {
          "output_type": "stream",
          "name": "stderr",
          "text": [
            "\n"
          ]
        }
      ]
    }
  ]
}